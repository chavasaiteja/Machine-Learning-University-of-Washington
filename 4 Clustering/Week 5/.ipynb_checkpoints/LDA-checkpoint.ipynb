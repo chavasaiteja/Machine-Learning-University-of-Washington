{
 "cells": [
  {
   "cell_type": "markdown",
   "metadata": {},
   "source": [
    "# Latent Dirichlet Allocation for Text Data\n",
    "\n",
    "In this assignment you will\n",
    "\n",
    "* apply standard preprocessing techniques on Wikipedia text data\n",
    "* use GraphLab Create to fit a Latent Dirichlet allocation (LDA) model\n",
    "* explore and interpret the results, including topic keywords and topic assignments for documents\n",
    "\n",
    "Recall that a major feature distinguishing the LDA model from our previously explored methods is the notion of *mixed membership*. Throughout the course so far, our models have assumed that each data point belongs to a single cluster. k-means determines membership simply by shortest distance to the cluster center, and Gaussian mixture models suppose that each data point is drawn from one of their component mixture distributions. In many cases, though, it is more realistic to think of data as genuinely belonging to more than one cluster or category - for example, if we have a model for text data that includes both \"Politics\" and \"World News\" categories, then an article about a recent meeting of the United Nations should have membership in both categories rather than being forced into just one.\n",
    "\n",
    "With this in mind, we will use GraphLab Create tools to fit an LDA model to a corpus of Wikipedia articles and examine the results to analyze the impact of a mixed membership approach. In particular, we want to identify the topics discovered by the model in terms of their most important words, and we want to use the model to predict the topic membership distribution for a given document. "
   ]
  },
  {
   "cell_type": "markdown",
   "metadata": {},
   "source": [
    "**Note to Amazon EC2 users**: To conserve memory, make sure to stop all the other notebooks before running this notebook."
   ]
  },
  {
   "cell_type": "markdown",
   "metadata": {},
   "source": [
    "## Text Data Preprocessing\n",
    "We'll start by importing our familiar Wikipedia dataset.\n",
    "\n",
    "The following code block will check if you have the correct version of GraphLab Create. Any version later than 1.8.5 will do. To upgrade, read [this page](https://turi.com/download/upgrade-graphlab-create.html)."
   ]
  },
  {
   "cell_type": "code",
   "execution_count": 1,
   "metadata": {},
   "outputs": [
    {
     "name": "stderr",
     "output_type": "stream",
     "text": [
      "[INFO] graphlab.cython.cy_server: GraphLab Create v2.1 started. Logging: /tmp/graphlab_server_1549855111.log\n"
     ]
    },
    {
     "name": "stdout",
     "output_type": "stream",
     "text": [
      "This non-commercial license of GraphLab Create for academic use is assigned to schava@usc.edu and will expire on January 29, 2020.\n"
     ]
    }
   ],
   "source": [
    "import graphlab as gl\n",
    "import numpy as np\n",
    "import matplotlib.pyplot as plt \n",
    "\n",
    "%matplotlib inline\n",
    "\n",
    "'''Check GraphLab Create version'''\n",
    "from distutils.version import StrictVersion\n",
    "assert (StrictVersion(gl.version) >= StrictVersion('1.8.5')), 'GraphLab Create must be version 1.8.5 or later.'"
   ]
  },
  {
   "cell_type": "code",
   "execution_count": 2,
   "metadata": {},
   "outputs": [
    {
     "data": {
      "text/html": [
       "<div style=\"max-height:1000px;max-width:1500px;overflow:auto;\"><table frame=\"box\" rules=\"cols\">\n",
       "    <tr>\n",
       "        <th style=\"padding-left: 1em; padding-right: 1em; text-align: center\">URI</th>\n",
       "        <th style=\"padding-left: 1em; padding-right: 1em; text-align: center\">name</th>\n",
       "        <th style=\"padding-left: 1em; padding-right: 1em; text-align: center\">text</th>\n",
       "    </tr>\n",
       "    <tr>\n",
       "        <td style=\"padding-left: 1em; padding-right: 1em; text-align: center; vertical-align: top\">&lt;http://dbpedia.org/resou<br>rce/Digby_Morrell&gt; ...</td>\n",
       "        <td style=\"padding-left: 1em; padding-right: 1em; text-align: center; vertical-align: top\">Digby Morrell</td>\n",
       "        <td style=\"padding-left: 1em; padding-right: 1em; text-align: center; vertical-align: top\">digby morrell born 10<br>october 1979 is a former ...</td>\n",
       "    </tr>\n",
       "    <tr>\n",
       "        <td style=\"padding-left: 1em; padding-right: 1em; text-align: center; vertical-align: top\">&lt;http://dbpedia.org/resou<br>rce/Alfred_J._Lewy&gt; ...</td>\n",
       "        <td style=\"padding-left: 1em; padding-right: 1em; text-align: center; vertical-align: top\">Alfred J. Lewy</td>\n",
       "        <td style=\"padding-left: 1em; padding-right: 1em; text-align: center; vertical-align: top\">alfred j lewy aka sandy<br>lewy graduated from ...</td>\n",
       "    </tr>\n",
       "    <tr>\n",
       "        <td style=\"padding-left: 1em; padding-right: 1em; text-align: center; vertical-align: top\">&lt;http://dbpedia.org/resou<br>rce/Harpdog_Brown&gt; ...</td>\n",
       "        <td style=\"padding-left: 1em; padding-right: 1em; text-align: center; vertical-align: top\">Harpdog Brown</td>\n",
       "        <td style=\"padding-left: 1em; padding-right: 1em; text-align: center; vertical-align: top\">harpdog brown is a singer<br>and harmonica player who ...</td>\n",
       "    </tr>\n",
       "    <tr>\n",
       "        <td style=\"padding-left: 1em; padding-right: 1em; text-align: center; vertical-align: top\">&lt;http://dbpedia.org/resou<br>rce/Franz_Rottensteiner&gt; ...</td>\n",
       "        <td style=\"padding-left: 1em; padding-right: 1em; text-align: center; vertical-align: top\">Franz Rottensteiner</td>\n",
       "        <td style=\"padding-left: 1em; padding-right: 1em; text-align: center; vertical-align: top\">franz rottensteiner born<br>in waidmannsfeld lower ...</td>\n",
       "    </tr>\n",
       "    <tr>\n",
       "        <td style=\"padding-left: 1em; padding-right: 1em; text-align: center; vertical-align: top\">&lt;http://dbpedia.org/resou<br>rce/G-Enka&gt; ...</td>\n",
       "        <td style=\"padding-left: 1em; padding-right: 1em; text-align: center; vertical-align: top\">G-Enka</td>\n",
       "        <td style=\"padding-left: 1em; padding-right: 1em; text-align: center; vertical-align: top\">henry krvits born 30<br>december 1974 in tallinn ...</td>\n",
       "    </tr>\n",
       "    <tr>\n",
       "        <td style=\"padding-left: 1em; padding-right: 1em; text-align: center; vertical-align: top\">&lt;http://dbpedia.org/resou<br>rce/Sam_Henderson&gt; ...</td>\n",
       "        <td style=\"padding-left: 1em; padding-right: 1em; text-align: center; vertical-align: top\">Sam Henderson</td>\n",
       "        <td style=\"padding-left: 1em; padding-right: 1em; text-align: center; vertical-align: top\">sam henderson born<br>october 18 1969 is an ...</td>\n",
       "    </tr>\n",
       "    <tr>\n",
       "        <td style=\"padding-left: 1em; padding-right: 1em; text-align: center; vertical-align: top\">&lt;http://dbpedia.org/resou<br>rce/Aaron_LaCrate&gt; ...</td>\n",
       "        <td style=\"padding-left: 1em; padding-right: 1em; text-align: center; vertical-align: top\">Aaron LaCrate</td>\n",
       "        <td style=\"padding-left: 1em; padding-right: 1em; text-align: center; vertical-align: top\">aaron lacrate is an<br>american music producer ...</td>\n",
       "    </tr>\n",
       "    <tr>\n",
       "        <td style=\"padding-left: 1em; padding-right: 1em; text-align: center; vertical-align: top\">&lt;http://dbpedia.org/resou<br>rce/Trevor_Ferguson&gt; ...</td>\n",
       "        <td style=\"padding-left: 1em; padding-right: 1em; text-align: center; vertical-align: top\">Trevor Ferguson</td>\n",
       "        <td style=\"padding-left: 1em; padding-right: 1em; text-align: center; vertical-align: top\">trevor ferguson aka john<br>farrow born 11 november ...</td>\n",
       "    </tr>\n",
       "    <tr>\n",
       "        <td style=\"padding-left: 1em; padding-right: 1em; text-align: center; vertical-align: top\">&lt;http://dbpedia.org/resou<br>rce/Grant_Nelson&gt; ...</td>\n",
       "        <td style=\"padding-left: 1em; padding-right: 1em; text-align: center; vertical-align: top\">Grant Nelson</td>\n",
       "        <td style=\"padding-left: 1em; padding-right: 1em; text-align: center; vertical-align: top\">grant nelson born 27<br>april 1971 in london  ...</td>\n",
       "    </tr>\n",
       "    <tr>\n",
       "        <td style=\"padding-left: 1em; padding-right: 1em; text-align: center; vertical-align: top\">&lt;http://dbpedia.org/resou<br>rce/Cathy_Caruth&gt; ...</td>\n",
       "        <td style=\"padding-left: 1em; padding-right: 1em; text-align: center; vertical-align: top\">Cathy Caruth</td>\n",
       "        <td style=\"padding-left: 1em; padding-right: 1em; text-align: center; vertical-align: top\">cathy caruth born 1955 is<br>frank h t rhodes ...</td>\n",
       "    </tr>\n",
       "</table>\n",
       "[59071 rows x 3 columns]<br/>Note: Only the head of the SFrame is printed.<br/>You can use print_rows(num_rows=m, num_columns=n) to print more rows and columns.\n",
       "</div>"
      ],
      "text/plain": [
       "Columns:\n",
       "\tURI\tstr\n",
       "\tname\tstr\n",
       "\ttext\tstr\n",
       "\n",
       "Rows: 59071\n",
       "\n",
       "Data:\n",
       "+-------------------------------+---------------------+\n",
       "|              URI              |         name        |\n",
       "+-------------------------------+---------------------+\n",
       "| <http://dbpedia.org/resour... |    Digby Morrell    |\n",
       "| <http://dbpedia.org/resour... |    Alfred J. Lewy   |\n",
       "| <http://dbpedia.org/resour... |    Harpdog Brown    |\n",
       "| <http://dbpedia.org/resour... | Franz Rottensteiner |\n",
       "| <http://dbpedia.org/resour... |        G-Enka       |\n",
       "| <http://dbpedia.org/resour... |    Sam Henderson    |\n",
       "| <http://dbpedia.org/resour... |    Aaron LaCrate    |\n",
       "| <http://dbpedia.org/resour... |   Trevor Ferguson   |\n",
       "| <http://dbpedia.org/resour... |     Grant Nelson    |\n",
       "| <http://dbpedia.org/resour... |     Cathy Caruth    |\n",
       "+-------------------------------+---------------------+\n",
       "+-------------------------------+\n",
       "|              text             |\n",
       "+-------------------------------+\n",
       "| digby morrell born 10 octo... |\n",
       "| alfred j lewy aka sandy le... |\n",
       "| harpdog brown is a singer ... |\n",
       "| franz rottensteiner born i... |\n",
       "| henry krvits born 30 decem... |\n",
       "| sam henderson born october... |\n",
       "| aaron lacrate is an americ... |\n",
       "| trevor ferguson aka john f... |\n",
       "| grant nelson born 27 april... |\n",
       "| cathy caruth born 1955 is ... |\n",
       "+-------------------------------+\n",
       "[59071 rows x 3 columns]\n",
       "Note: Only the head of the SFrame is printed.\n",
       "You can use print_rows(num_rows=m, num_columns=n) to print more rows and columns."
      ]
     },
     "execution_count": 2,
     "metadata": {},
     "output_type": "execute_result"
    }
   ],
   "source": [
    "# import wiki data\n",
    "wiki = gl.SFrame('people_wiki.gl/')\n",
    "wiki"
   ]
  },
  {
   "cell_type": "markdown",
   "metadata": {},
   "source": [
    "In the original data, each Wikipedia article is represented by a URI, a name, and a string containing the entire text of the article. Recall from the video lectures that LDA requires documents to be represented as a _bag of words_, which ignores word ordering in the document but retains information on how many times each word appears. As we have seen in our previous encounters with text data, words such as 'the', 'a', or 'and' are by far the most frequent, but they appear so commonly in the English language that they tell us almost nothing about how similar or dissimilar two documents might be. \n",
    "\n",
    "Therefore, before we train our LDA model, we will preprocess the Wikipedia data in two steps: first, we will create a bag of words representation for each article, and then we will remove the common words that don't help us to distinguish between documents. For both of these tasks we can use pre-implemented tools from GraphLab Create:"
   ]
  },
  {
   "cell_type": "code",
   "execution_count": 3,
   "metadata": {},
   "outputs": [],
   "source": [
    "wiki_docs = gl.text_analytics.count_words(wiki['text'])\n",
    "wiki_docs = wiki_docs.dict_trim_by_keys(gl.text_analytics.stopwords(), exclude=True)"
   ]
  },
  {
   "cell_type": "markdown",
   "metadata": {},
   "source": [
    "## Model fitting and interpretation\n",
    "In the video lectures we saw that Gibbs sampling can be used to perform inference in the LDA model. In this assignment we will use a GraphLab Create method to learn the topic model for our Wikipedia data, and our main emphasis will be on interpreting the results. We'll begin by creating the topic model using create() from GraphLab Create's topic_model module.\n",
    "\n",
    "Note: This may take several minutes to run."
   ]
  },
  {
   "cell_type": "code",
   "execution_count": 4,
   "metadata": {},
   "outputs": [
    {
     "data": {
      "text/html": [
       "<pre>Learning a topic model</pre>"
      ],
      "text/plain": [
       "Learning a topic model"
      ]
     },
     "metadata": {},
     "output_type": "display_data"
    },
    {
     "data": {
      "text/html": [
       "<pre>       Number of documents     59071</pre>"
      ],
      "text/plain": [
       "       Number of documents     59071"
      ]
     },
     "metadata": {},
     "output_type": "display_data"
    },
    {
     "data": {
      "text/html": [
       "<pre>           Vocabulary size    547462</pre>"
      ],
      "text/plain": [
       "           Vocabulary size    547462"
      ]
     },
     "metadata": {},
     "output_type": "display_data"
    },
    {
     "data": {
      "text/html": [
       "<pre>   Running collapsed Gibbs sampling</pre>"
      ],
      "text/plain": [
       "   Running collapsed Gibbs sampling"
      ]
     },
     "metadata": {},
     "output_type": "display_data"
    },
    {
     "data": {
      "text/html": [
       "<pre>+-----------+---------------+----------------+-----------------+</pre>"
      ],
      "text/plain": [
       "+-----------+---------------+----------------+-----------------+"
      ]
     },
     "metadata": {},
     "output_type": "display_data"
    },
    {
     "data": {
      "text/html": [
       "<pre>| Iteration | Elapsed Time  | Tokens/Second  | Est. Perplexity |</pre>"
      ],
      "text/plain": [
       "| Iteration | Elapsed Time  | Tokens/Second  | Est. Perplexity |"
      ]
     },
     "metadata": {},
     "output_type": "display_data"
    },
    {
     "data": {
      "text/html": [
       "<pre>+-----------+---------------+----------------+-----------------+</pre>"
      ],
      "text/plain": [
       "+-----------+---------------+----------------+-----------------+"
      ]
     },
     "metadata": {},
     "output_type": "display_data"
    },
    {
     "data": {
      "text/html": [
       "<pre>| 10        | 7.77s         | 1.21321e+07    | 0               |</pre>"
      ],
      "text/plain": [
       "| 10        | 7.77s         | 1.21321e+07    | 0               |"
      ]
     },
     "metadata": {},
     "output_type": "display_data"
    },
    {
     "data": {
      "text/html": [
       "<pre>| 20        | 15.04s        | 1.2299e+07     | 0               |</pre>"
      ],
      "text/plain": [
       "| 20        | 15.04s        | 1.2299e+07     | 0               |"
      ]
     },
     "metadata": {},
     "output_type": "display_data"
    },
    {
     "data": {
      "text/html": [
       "<pre>| 30        | 21.65s        | 1.15148e+07    | 0               |</pre>"
      ],
      "text/plain": [
       "| 30        | 21.65s        | 1.15148e+07    | 0               |"
      ]
     },
     "metadata": {},
     "output_type": "display_data"
    },
    {
     "data": {
      "text/html": [
       "<pre>| 40        | 28.13s        | 1.23986e+07    | 0               |</pre>"
      ],
      "text/plain": [
       "| 40        | 28.13s        | 1.23986e+07    | 0               |"
      ]
     },
     "metadata": {},
     "output_type": "display_data"
    },
    {
     "data": {
      "text/html": [
       "<pre>| 50        | 34.70s        | 1.09412e+07    | 0               |</pre>"
      ],
      "text/plain": [
       "| 50        | 34.70s        | 1.09412e+07    | 0               |"
      ]
     },
     "metadata": {},
     "output_type": "display_data"
    },
    {
     "data": {
      "text/html": [
       "<pre>| 60        | 42.49s        | 1.18394e+07    | 0               |</pre>"
      ],
      "text/plain": [
       "| 60        | 42.49s        | 1.18394e+07    | 0               |"
      ]
     },
     "metadata": {},
     "output_type": "display_data"
    },
    {
     "data": {
      "text/html": [
       "<pre>| 70        | 48.96s        | 1.22548e+07    | 0               |</pre>"
      ],
      "text/plain": [
       "| 70        | 48.96s        | 1.22548e+07    | 0               |"
      ]
     },
     "metadata": {},
     "output_type": "display_data"
    },
    {
     "data": {
      "text/html": [
       "<pre>| 80        | 56.03s        | 1.02181e+07    | 0               |</pre>"
      ],
      "text/plain": [
       "| 80        | 56.03s        | 1.02181e+07    | 0               |"
      ]
     },
     "metadata": {},
     "output_type": "display_data"
    },
    {
     "data": {
      "text/html": [
       "<pre>| 90        | 1m 2s         | 1.20826e+07    | 0               |</pre>"
      ],
      "text/plain": [
       "| 90        | 1m 2s         | 1.20826e+07    | 0               |"
      ]
     },
     "metadata": {},
     "output_type": "display_data"
    },
    {
     "data": {
      "text/html": [
       "<pre>| 100       | 1m 10s        | 1.09168e+07    | 0               |</pre>"
      ],
      "text/plain": [
       "| 100       | 1m 10s        | 1.09168e+07    | 0               |"
      ]
     },
     "metadata": {},
     "output_type": "display_data"
    },
    {
     "data": {
      "text/html": [
       "<pre>| 110       | 1m 18s        | 1.17376e+07    | 0               |</pre>"
      ],
      "text/plain": [
       "| 110       | 1m 18s        | 1.17376e+07    | 0               |"
      ]
     },
     "metadata": {},
     "output_type": "display_data"
    },
    {
     "data": {
      "text/html": [
       "<pre>| 120       | 1m 26s        | 1.14387e+07    | 0               |</pre>"
      ],
      "text/plain": [
       "| 120       | 1m 26s        | 1.14387e+07    | 0               |"
      ]
     },
     "metadata": {},
     "output_type": "display_data"
    },
    {
     "data": {
      "text/html": [
       "<pre>| 130       | 1m 32s        | 1.24163e+07    | 0               |</pre>"
      ],
      "text/plain": [
       "| 130       | 1m 32s        | 1.24163e+07    | 0               |"
      ]
     },
     "metadata": {},
     "output_type": "display_data"
    },
    {
     "data": {
      "text/html": [
       "<pre>| 140       | 1m 39s        | 1.21396e+07    | 0               |</pre>"
      ],
      "text/plain": [
       "| 140       | 1m 39s        | 1.21396e+07    | 0               |"
      ]
     },
     "metadata": {},
     "output_type": "display_data"
    },
    {
     "data": {
      "text/html": [
       "<pre>| 150       | 1m 45s        | 1.2047e+07     | 0               |</pre>"
      ],
      "text/plain": [
       "| 150       | 1m 45s        | 1.2047e+07     | 0               |"
      ]
     },
     "metadata": {},
     "output_type": "display_data"
    },
    {
     "data": {
      "text/html": [
       "<pre>| 160       | 1m 52s        | 1.19015e+07    | 0               |</pre>"
      ],
      "text/plain": [
       "| 160       | 1m 52s        | 1.19015e+07    | 0               |"
      ]
     },
     "metadata": {},
     "output_type": "display_data"
    },
    {
     "data": {
      "text/html": [
       "<pre>| 170       | 1m 59s        | 1.22478e+07    | 0               |</pre>"
      ],
      "text/plain": [
       "| 170       | 1m 59s        | 1.22478e+07    | 0               |"
      ]
     },
     "metadata": {},
     "output_type": "display_data"
    },
    {
     "data": {
      "text/html": [
       "<pre>| 180       | 2m 8s         | 9.66061e+06    | 0               |</pre>"
      ],
      "text/plain": [
       "| 180       | 2m 8s         | 9.66061e+06    | 0               |"
      ]
     },
     "metadata": {},
     "output_type": "display_data"
    },
    {
     "data": {
      "text/html": [
       "<pre>| 190       | 2m 15s        | 1.23825e+07    | 0               |</pre>"
      ],
      "text/plain": [
       "| 190       | 2m 15s        | 1.23825e+07    | 0               |"
      ]
     },
     "metadata": {},
     "output_type": "display_data"
    },
    {
     "data": {
      "text/html": [
       "<pre>| 200       | 2m 21s        | 1.25839e+07    | 0               |</pre>"
      ],
      "text/plain": [
       "| 200       | 2m 21s        | 1.25839e+07    | 0               |"
      ]
     },
     "metadata": {},
     "output_type": "display_data"
    },
    {
     "data": {
      "text/html": [
       "<pre>+-----------+---------------+----------------+-----------------+</pre>"
      ],
      "text/plain": [
       "+-----------+---------------+----------------+-----------------+"
      ]
     },
     "metadata": {},
     "output_type": "display_data"
    }
   ],
   "source": [
    "topic_model = gl.topic_model.create(wiki_docs, num_topics=10, num_iterations=200)"
   ]
  },
  {
   "cell_type": "markdown",
   "metadata": {},
   "source": [
    "GraphLab provides a useful summary of the model we have fitted, including the hyperparameter settings for alpha, gamma (note that GraphLab Create calls this parameter beta), and K (the number of topics); the structure of the output data; and some useful methods for understanding the results."
   ]
  },
  {
   "cell_type": "code",
   "execution_count": 5,
   "metadata": {},
   "outputs": [
    {
     "data": {
      "text/plain": [
       "Class                          : TopicModel\n",
       "\n",
       "Schema\n",
       "------\n",
       "Vocabulary Size                : 547462\n",
       "\n",
       "Settings\n",
       "--------\n",
       "Number of Topics               : 10\n",
       "alpha                          : 5.0\n",
       "beta                           : 0.1\n",
       "Iterations                     : 200\n",
       "Training time                  : 142.8244\n",
       "Verbose                        : False\n",
       "\n",
       "Accessible fields             : \n",
       "m['topics']                   : An SFrame containing the topics.\n",
       "m['vocabulary']               : An SArray containing the words in the vocabulary.\n",
       "Useful methods                : \n",
       "m.get_topics()                : Get the most probable words per topic.\n",
       "m.predict(new_docs)           : Make predictions for new documents."
      ]
     },
     "execution_count": 5,
     "metadata": {},
     "output_type": "execute_result"
    }
   ],
   "source": [
    "topic_model"
   ]
  },
  {
   "cell_type": "markdown",
   "metadata": {},
   "source": [
    "It is certainly useful to have pre-implemented methods available for LDA, but as with our previous methods for clustering and retrieval, implementing and fitting the model gets us only halfway towards our objective. We now need to analyze the fitted model to understand what it has done with our data and whether it will be useful as a document classification system. This can be a challenging task in itself, particularly when the model that we use is complex. We will begin by outlining a sequence of objectives that will help us understand our model in detail. In particular, we will\n",
    "\n",
    "* get the top words in each topic and use these to identify topic themes\n",
    "* predict topic distributions for some example documents\n",
    "* compare the quality of LDA \"nearest neighbors\" to the NN output from the first assignment\n",
    "* understand the role of model hyperparameters alpha and gamma"
   ]
  },
  {
   "cell_type": "markdown",
   "metadata": {},
   "source": [
    "## Load a fitted topic model\n",
    "The method used to fit the LDA model is a _randomized algorithm_, which means that it involves steps that are random; in this case, the randomness comes from Gibbs sampling, as discussed in the LDA video lectures. Because of these random steps, the algorithm will be expected to yield slighty different output for different runs on the same data - note that this is different from previously seen algorithms such as k-means or EM, which will always produce the same results given the same input and initialization.\n",
    "\n",
    "It is important to understand that variation in the results is a fundamental feature of randomized methods. However, in the context of this assignment this variation makes it difficult to evaluate the correctness of your analysis, so we will load and analyze a pre-trained model. \n",
    "\n",
    "We recommend that you spend some time exploring your own fitted topic model and compare our analysis of the pre-trained model to the same analysis applied to the model you trained above."
   ]
  },
  {
   "cell_type": "code",
   "execution_count": 8,
   "metadata": {
    "scrolled": true
   },
   "outputs": [],
   "source": [
    "topic_model = gl.load_model('topic_models/lda_assignment_topic_model')"
   ]
  },
  {
   "cell_type": "markdown",
   "metadata": {},
   "source": [
    "# Identifying topic themes by top words\n",
    "\n",
    "We'll start by trying to identify the topics learned by our model with some major themes. As a preliminary check on the results of applying this method, it is reasonable to hope that the model has been able to learn topics that correspond to recognizable categories. In order to do this, we must first recall what exactly a 'topic' is in the context of LDA. \n",
    "\n",
    "In the video lectures on LDA we learned that a topic is a probability distribution over words in the vocabulary; that is, each topic assigns a particular probability to every one of the unique words that appears in our data. Different topics will assign different probabilities to the same word: for instance, a topic that ends up describing science and technology articles might place more probability on the word 'university' than a topic that describes sports or politics. Looking at the highest probability words in each topic will thus give us a sense of its major themes. Ideally we would find that each topic is identifiable with some clear theme _and_ that all the topics are relatively distinct.\n",
    "\n",
    "We can use the GraphLab Create function get_topics() to view the top words (along with their associated probabilities) from each topic.\n",
    "\n",
    "__Quiz Question:__ Identify the top 3 most probable words for the first topic. "
   ]
  },
  {
   "cell_type": "markdown",
   "metadata": {},
   "source": [
    "__ Quiz Question:__ What is the sum of the probabilities assigned to the top 50 words in the 3rd topic?"
   ]
  },
  {
   "cell_type": "markdown",
   "metadata": {},
   "source": [
    "Let's look at the top 10 words for each topic to see if we can identify any themes:"
   ]
  },
  {
   "cell_type": "code",
   "execution_count": 9,
   "metadata": {},
   "outputs": [
    {
     "data": {
      "text/plain": [
       "[['university',\n",
       "  'research',\n",
       "  'professor',\n",
       "  'international',\n",
       "  'institute',\n",
       "  'science',\n",
       "  'society',\n",
       "  'studies',\n",
       "  'director',\n",
       "  'national'],\n",
       " ['played',\n",
       "  'season',\n",
       "  'league',\n",
       "  'team',\n",
       "  'career',\n",
       "  'football',\n",
       "  'games',\n",
       "  'player',\n",
       "  'coach',\n",
       "  'game'],\n",
       " ['film',\n",
       "  'music',\n",
       "  'album',\n",
       "  'released',\n",
       "  'band',\n",
       "  'television',\n",
       "  'series',\n",
       "  'show',\n",
       "  'award',\n",
       "  'appeared'],\n",
       " ['university',\n",
       "  'school',\n",
       "  'served',\n",
       "  'college',\n",
       "  'state',\n",
       "  'american',\n",
       "  'states',\n",
       "  'united',\n",
       "  'born',\n",
       "  'law'],\n",
       " ['member',\n",
       "  'party',\n",
       "  'election',\n",
       "  'minister',\n",
       "  'government',\n",
       "  'elected',\n",
       "  'served',\n",
       "  'president',\n",
       "  'general',\n",
       "  'committee'],\n",
       " ['work',\n",
       "  'art',\n",
       "  'book',\n",
       "  'published',\n",
       "  'york',\n",
       "  'magazine',\n",
       "  'radio',\n",
       "  'books',\n",
       "  'award',\n",
       "  'arts'],\n",
       " ['company',\n",
       "  'business',\n",
       "  'years',\n",
       "  'group',\n",
       "  'time',\n",
       "  'family',\n",
       "  'people',\n",
       "  'india',\n",
       "  'million',\n",
       "  'indian'],\n",
       " ['world',\n",
       "  'won',\n",
       "  'born',\n",
       "  'time',\n",
       "  'year',\n",
       "  'team',\n",
       "  'championship',\n",
       "  'tour',\n",
       "  'championships',\n",
       "  'title'],\n",
       " ['born',\n",
       "  'british',\n",
       "  'london',\n",
       "  'australian',\n",
       "  'south',\n",
       "  'joined',\n",
       "  'years',\n",
       "  'made',\n",
       "  'england',\n",
       "  'australia'],\n",
       " ['music',\n",
       "  'de',\n",
       "  'born',\n",
       "  'international',\n",
       "  'la',\n",
       "  'orchestra',\n",
       "  'opera',\n",
       "  'studied',\n",
       "  'french',\n",
       "  'festival']]"
      ]
     },
     "execution_count": 9,
     "metadata": {},
     "output_type": "execute_result"
    }
   ],
   "source": [
    "[x['words'] for x in topic_model.get_topics(output_type='topic_words', num_words=10)]"
   ]
  },
  {
   "cell_type": "markdown",
   "metadata": {},
   "source": [
    "We propose the following themes for each topic:\n",
    "\n",
    "- topic 0: Science and research\n",
    "- topic 1: Team sports\n",
    "- topic 2: Music, TV, and film\n",
    "- topic 3: American college and politics\n",
    "- topic 4: General politics\n",
    "- topic 5: Art and publishing\n",
    "- topic 6: Business\n",
    "- topic 7: International athletics\n",
    "- topic 8: Great Britain and Australia\n",
    "- topic 9: International music\n",
    "\n",
    "We'll save these themes for later:"
   ]
  },
  {
   "cell_type": "code",
   "execution_count": 10,
   "metadata": {},
   "outputs": [],
   "source": [
    "themes = ['science and research','team sports','music, TV, and film','American college and politics','general politics', \\\n",
    "         'art and publishing','Business','international athletics','Great Britain and Australia','international music']"
   ]
  },
  {
   "cell_type": "markdown",
   "metadata": {},
   "source": [
    "### Measuring the importance of top words\n",
    "\n",
    "We can learn more about topics by exploring how they place probability mass (which we can think of as a weight) on each of their top words.\n",
    "\n",
    "We'll do this with two visualizations of the weights for the top words in each topic:\n",
    " - the weights of the top 100 words, sorted by the size\n",
    " - the total weight of the top 10 words\n"
   ]
  },
  {
   "cell_type": "markdown",
   "metadata": {},
   "source": [
    "Here's a plot for the top 100 words by weight in each topic:"
   ]
  },
  {
   "cell_type": "code",
   "execution_count": 11,
   "metadata": {},
   "outputs": [
    {
     "data": {
      "text/plain": [
       "Text(0.5,1,'Probabilities of Top 100 Words in each Topic')"
      ]
     },
     "execution_count": 11,
     "metadata": {},
     "output_type": "execute_result"
    },
    {
     "data": {
      "image/png": "[encoded data removed]",
      "text/plain": [
       "<Figure size 432x288 with 1 Axes>"
      ]
     },
     "metadata": {
      "needs_background": "light"
     },
     "output_type": "display_data"
    }
   ],
   "source": [
    "for i in range(10):\n",
    "    plt.plot(range(100), topic_model.get_topics(topic_ids=[i], num_words=100)['score'])\n",
    "plt.xlabel('Word rank')\n",
    "plt.ylabel('Probability')\n",
    "plt.title('Probabilities of Top 100 Words in each Topic')"
   ]
  },
  {
   "cell_type": "markdown",
   "metadata": {},
   "source": [
    "In the above plot, each line corresponds to one of our ten topics. Notice how for each topic, the weights drop off sharply as we move down the ranked list of most important words. This shows that the top 10-20 words in each topic are assigned a much greater weight than the remaining words - and remember from the summary of our topic model that our vocabulary has 547462 words in total!\n",
    "\n",
    "\n",
    "Next we plot the total weight assigned by each topic to its top 10 words: "
   ]
  },
  {
   "cell_type": "code",
   "execution_count": 12,
   "metadata": {},
   "outputs": [
    {
     "data": {
      "image/png": "[encoded data removed]",
      "text/plain": [
       "<Figure size 432x288 with 1 Axes>"
      ]
     },
     "metadata": {
      "needs_background": "light"
     },
     "output_type": "display_data"
    }
   ],
   "source": [
    "top_probs = [sum(topic_model.get_topics(topic_ids=[i], num_words=10)['score']) for i in range(10)]\n",
    "\n",
    "ind = np.arange(10)\n",
    "width = 0.5\n",
    "\n",
    "fig, ax = plt.subplots()\n",
    "\n",
    "ax.bar(ind-(width/2),top_probs,width)\n",
    "ax.set_xticks(ind)\n",
    "\n",
    "plt.xlabel('Topic')\n",
    "plt.ylabel('Probability')\n",
    "plt.title('Total Probability of Top 10 Words in each Topic')\n",
    "plt.xlim(-0.5,9.5)\n",
    "plt.ylim(0,0.15)\n",
    "plt.show()"
   ]
  },
  {
   "cell_type": "code",
   "execution_count": 13,
   "metadata": {},
   "outputs": [],
   "source": [
    "top_40_words_probs_sum_3rd_topic = sum(topic_model.get_topics(topic_ids=[2], num_words=50)['score'])"
   ]
  },
  {
   "cell_type": "code",
   "execution_count": 14,
   "metadata": {},
   "outputs": [
    {
     "data": {
      "text/plain": [
       "0.21034366078939654"
      ]
     },
     "execution_count": 14,
     "metadata": {},
     "output_type": "execute_result"
    }
   ],
   "source": [
    "top_40_words_probs_sum_3rd_topic"
   ]
  },
  {
   "cell_type": "markdown",
   "metadata": {},
   "source": [
    "Here we see that, for our topic model, the top 10 words only account for a small fraction (in this case, between 5% and 13%) of their topic's total probability mass. So while we can use the top words to identify broad themes for each topic, we should keep in mind that in reality these topics are more complex than a simple 10-word summary.\n",
    "\n",
    "Finally, we observe that some 'junk' words appear highly rated in some topics despite our efforts to remove unhelpful words before fitting the model; for example, the word 'born' appears as a top 10 word in three different topics, but it doesn't help us describe these topics at all."
   ]
  },
  {
   "cell_type": "markdown",
   "metadata": {},
   "source": [
    "# Topic distributions for some example documents\n",
    "\n",
    "As we noted in the introduction to this assignment, LDA allows for mixed membership, which means that each document can partially belong to several different topics. For each document, topic membership is expressed as a vector of weights that sum to one; the magnitude of each weight indicates the degree to which the document represents that particular topic.\n",
    "\n",
    "We'll explore this in our fitted model by looking at the topic distributions for a few example Wikipedia articles from our data set. We should find that these articles have the highest weights on the topics whose themes are most relevant to the subject of the article - for example, we'd expect an article on a politician to place relatively high weight on topics related to government, while an article about an athlete should place higher weight on topics related to sports or competition."
   ]
  },
  {
   "cell_type": "markdown",
   "metadata": {},
   "source": [
    "Topic distributions for documents can be obtained using GraphLab Create's predict() function. GraphLab Create uses a collapsed Gibbs sampler similar to the one described in the video lectures, where only the word assignments variables are sampled.  To get a document-specific topic proportion vector post-facto, predict() draws this vector from the conditional distribution given the sampled word assignments in the document.  Notice that, since these are draws from a _distribution_ over topics that the model has learned, we will get slightly different predictions each time we call this function on a document - we can see this below, where we predict the topic distribution for the article on Barack Obama:"
   ]
  },
  {
   "cell_type": "code",
   "execution_count": 15,
   "metadata": {},
   "outputs": [
    {
     "name": "stdout",
     "output_type": "stream",
     "text": [
      "+--------------------------+---------------------------+\n",
      "| predictions (first draw) | predictions (second draw) |\n",
      "+--------------------------+---------------------------+\n",
      "|     0.0349462365591      |      0.0322580645161      |\n",
      "|     0.0645161290323      |      0.0403225806452      |\n",
      "|     0.0215053763441      |      0.0188172043011      |\n",
      "|      0.123655913978      |       0.137096774194      |\n",
      "|      0.612903225806      |       0.626344086022      |\n",
      "|     0.0241935483871      |      0.0161290322581      |\n",
      "|     0.0376344086022      |      0.0510752688172      |\n",
      "|     0.0188172043011      |      0.0349462365591      |\n",
      "|     0.0322580645161      |      0.0241935483871      |\n",
      "|     0.0295698924731      |      0.0188172043011      |\n",
      "+--------------------------+---------------------------+\n",
      "+-------------------------------+\n",
      "|             topics            |\n",
      "+-------------------------------+\n",
      "|      science and research     |\n",
      "|          team sports          |\n",
      "|      music, TV, and film      |\n",
      "| American college and politics |\n",
      "|        general politics       |\n",
      "|       art and publishing      |\n",
      "|            Business           |\n",
      "|    international athletics    |\n",
      "|  Great Britain and Australia  |\n",
      "|      international music      |\n",
      "+-------------------------------+\n",
      "[10 rows x 3 columns]\n",
      "\n"
     ]
    }
   ],
   "source": [
    "obama = gl.SArray([wiki_docs[int(np.where(wiki['name']=='Barack Obama')[0])]])\n",
    "pred1 = topic_model.predict(obama, output_type='probability')\n",
    "pred2 = topic_model.predict(obama, output_type='probability')\n",
    "print(gl.SFrame({'topics':themes, 'predictions (first draw)':pred1[0], 'predictions (second draw)':pred2[0]}))"
   ]
  },
  {
   "cell_type": "markdown",
   "metadata": {},
   "source": [
    "To get a more robust estimate of the topics for each document, we can average a large number of predictions for the same document:"
   ]
  },
  {
   "cell_type": "code",
   "execution_count": 16,
   "metadata": {},
   "outputs": [],
   "source": [
    "def average_predictions(model, test_document, num_trials=100):\n",
    "    avg_preds = np.zeros((model.num_topics))\n",
    "    for i in range(num_trials):\n",
    "        avg_preds += model.predict(test_document, output_type='probability')[0]\n",
    "    avg_preds = avg_preds/num_trials\n",
    "    result = gl.SFrame({'topics':themes, 'average predictions':avg_preds})\n",
    "    result = result.sort('average predictions', ascending=False)\n",
    "    return result"
   ]
  },
  {
   "cell_type": "code",
   "execution_count": 17,
   "metadata": {},
   "outputs": [
    {
     "name": "stdout",
     "output_type": "stream",
     "text": [
      "+---------------------+-------------------------------+\n",
      "| average predictions |             topics            |\n",
      "+---------------------+-------------------------------+\n",
      "|    0.594408602151   |        general politics       |\n",
      "|    0.138306451613   | American college and politics |\n",
      "|   0.0528225806452   |            Business           |\n",
      "|   0.0495967741935   |          team sports          |\n",
      "|   0.0390322580645   |      science and research     |\n",
      "|   0.0339784946237   |    international athletics    |\n",
      "|   0.0253225806452   |  Great Britain and Australia  |\n",
      "|   0.0241666666667   |       art and publishing      |\n",
      "|   0.0227956989247   |      international music      |\n",
      "|   0.0195698924731   |      music, TV, and film      |\n",
      "+---------------------+-------------------------------+\n",
      "[10 rows x 2 columns]\n",
      "\n"
     ]
    }
   ],
   "source": [
    "print average_predictions(topic_model, obama, 100)"
   ]
  },
  {
   "cell_type": "markdown",
   "metadata": {},
   "source": [
    "__Quiz Question:__ What is the topic most closely associated with the article about former US President George W. Bush? Use the average results from 100 topic predictions."
   ]
  },
  {
   "cell_type": "code",
   "execution_count": 24,
   "metadata": {},
   "outputs": [
    {
     "name": "stdout",
     "output_type": "stream",
     "text": [
      "+---------------------+-------------------------------+\n",
      "| average predictions |             topics            |\n",
      "+---------------------+-------------------------------+\n",
      "|    0.428976608187   |        general politics       |\n",
      "|    0.191842105263   | American college and politics |\n",
      "|    0.101812865497   |            Business           |\n",
      "|   0.0595321637427   |      science and research     |\n",
      "|   0.0487134502924   |       art and publishing      |\n",
      "|   0.0448830409357   |          team sports          |\n",
      "|   0.0372514619883   |  Great Britain and Australia  |\n",
      "|   0.0358479532164   |    international athletics    |\n",
      "|   0.0295321637427   |      music, TV, and film      |\n",
      "|   0.0216081871345   |      international music      |\n",
      "+---------------------+-------------------------------+\n",
      "[10 rows x 2 columns]\n",
      "\n"
     ]
    }
   ],
   "source": [
    "bush = gl.SArray([wiki_docs[int(np.where(wiki['name']=='George W. Bush')[0])]])\n",
    "print average_predictions(topic_model, bush, 100)"
   ]
  },
  {
   "cell_type": "markdown",
   "metadata": {},
   "source": [
    "__Quiz Question:__ What are the top 3 topics corresponding to the article about English football (soccer) player Steven Gerrard? Use the average results from 100 topic predictions."
   ]
  },
  {
   "cell_type": "code",
   "execution_count": 25,
   "metadata": {},
   "outputs": [
    {
     "name": "stdout",
     "output_type": "stream",
     "text": [
      "+---------------------+-------------------------------+\n",
      "| average predictions |             topics            |\n",
      "+---------------------+-------------------------------+\n",
      "|       0.49152       |          team sports          |\n",
      "|       0.16972       |  Great Britain and Australia  |\n",
      "|       0.13096       |    international athletics    |\n",
      "|       0.03616       |      international music      |\n",
      "|       0.03248       |      music, TV, and film      |\n",
      "|        0.032        |        general politics       |\n",
      "|       0.02948       |            Business           |\n",
      "|       0.02756       |       art and publishing      |\n",
      "|       0.02564       | American college and politics |\n",
      "|       0.02448       |      science and research     |\n",
      "+---------------------+-------------------------------+\n",
      "[10 rows x 2 columns]\n",
      "\n"
     ]
    }
   ],
   "source": [
    "gerrard = gl.SArray([wiki_docs[int(np.where(wiki['name']=='Steven Gerrard')[0])]])\n",
    "print average_predictions(topic_model, gerrard, 100)"
   ]
  },
  {
   "cell_type": "markdown",
   "metadata": {},
   "source": [
    "# Comparing LDA to nearest neighbors for document retrieval\n",
    "\n",
    "So far we have found that our topic model has learned some coherent topics, we have explored these topics as probability distributions over a vocabulary, and we have seen how individual documents in our Wikipedia data set are assigned to these topics in a way that corresponds with our expectations. \n",
    "\n",
    "In this section, we will use the predicted topic distribution as a representation of each document, similar to how we have previously represented documents by word count or TF-IDF. This gives us a way of computing distances between documents, so that we can run a nearest neighbors search for a given document based on its membership in the topics that we learned from LDA. We can contrast the results with those obtained by running nearest neighbors under the usual TF-IDF representation, an approach that we explored in a previous assignment. \n",
    "\n",
    "We'll start by creating the LDA topic distribution representation for each document:"
   ]
  },
  {
   "cell_type": "code",
   "execution_count": 26,
   "metadata": {},
   "outputs": [],
   "source": [
    "wiki['lda'] = topic_model.predict(wiki_docs, output_type='probability')"
   ]
  },
  {
   "cell_type": "markdown",
   "metadata": {},
   "source": [
    "Next we add the TF-IDF document representations:"
   ]
  },
  {
   "cell_type": "code",
   "execution_count": 27,
   "metadata": {},
   "outputs": [],
   "source": [
    "wiki['word_count'] = gl.text_analytics.count_words(wiki['text'])\n",
    "wiki['tf_idf'] = gl.text_analytics.tf_idf(wiki['word_count'])"
   ]
  },
  {
   "cell_type": "markdown",
   "metadata": {},
   "source": [
    "For each of our two different document representations, we can use GraphLab Create to compute a brute-force nearest neighbors model:"
   ]
  },
  {
   "cell_type": "code",
   "execution_count": 28,
   "metadata": {},
   "outputs": [
    {
     "data": {
      "text/html": [
       "<pre>Starting brute force nearest neighbors model training.</pre>"
      ],
      "text/plain": [
       "Starting brute force nearest neighbors model training."
      ]
     },
     "metadata": {},
     "output_type": "display_data"
    },
    {
     "data": {
      "text/html": [
       "<pre>Starting brute force nearest neighbors model training.</pre>"
      ],
      "text/plain": [
       "Starting brute force nearest neighbors model training."
      ]
     },
     "metadata": {},
     "output_type": "display_data"
    }
   ],
   "source": [
    "model_tf_idf = gl.nearest_neighbors.create(wiki, label='name', features=['tf_idf'],\n",
    "                                           method='brute_force', distance='cosine')\n",
    "model_lda_rep = gl.nearest_neighbors.create(wiki, label='name', features=['lda'],\n",
    "                                            method='brute_force', distance='cosine')"
   ]
  },
  {
   "cell_type": "markdown",
   "metadata": {},
   "source": [
    "Let's compare these nearest neighbor models by finding the nearest neighbors under each representation on an example document. For this example we'll use Paul Krugman, an American economist:"
   ]
  },
  {
   "cell_type": "code",
   "execution_count": 29,
   "metadata": {},
   "outputs": [
    {
     "data": {
      "text/html": [
       "<pre>Starting pairwise querying.</pre>"
      ],
      "text/plain": [
       "Starting pairwise querying."
      ]
     },
     "metadata": {},
     "output_type": "display_data"
    },
    {
     "data": {
      "text/html": [
       "<pre>+--------------+---------+-------------+--------------+</pre>"
      ],
      "text/plain": [
       "+--------------+---------+-------------+--------------+"
      ]
     },
     "metadata": {},
     "output_type": "display_data"
    },
    {
     "data": {
      "text/html": [
       "<pre>| Query points | # Pairs | % Complete. | Elapsed Time |</pre>"
      ],
      "text/plain": [
       "| Query points | # Pairs | % Complete. | Elapsed Time |"
      ]
     },
     "metadata": {},
     "output_type": "display_data"
    },
    {
     "data": {
      "text/html": [
       "<pre>+--------------+---------+-------------+--------------+</pre>"
      ],
      "text/plain": [
       "+--------------+---------+-------------+--------------+"
      ]
     },
     "metadata": {},
     "output_type": "display_data"
    },
    {
     "data": {
      "text/html": [
       "<pre>| 0            | 1       | 0.00169288  | 12.269ms     |</pre>"
      ],
      "text/plain": [
       "| 0            | 1       | 0.00169288  | 12.269ms     |"
      ]
     },
     "metadata": {},
     "output_type": "display_data"
    },
    {
     "data": {
      "text/html": [
       "<pre>| Done         |         | 100         | 307.449ms    |</pre>"
      ],
      "text/plain": [
       "| Done         |         | 100         | 307.449ms    |"
      ]
     },
     "metadata": {},
     "output_type": "display_data"
    },
    {
     "data": {
      "text/html": [
       "<pre>+--------------+---------+-------------+--------------+</pre>"
      ],
      "text/plain": [
       "+--------------+---------+-------------+--------------+"
      ]
     },
     "metadata": {},
     "output_type": "display_data"
    },
    {
     "data": {
      "text/html": [
       "<div style=\"max-height:1000px;max-width:1500px;overflow:auto;\"><table frame=\"box\" rules=\"cols\">\n",
       "    <tr>\n",
       "        <th style=\"padding-left: 1em; padding-right: 1em; text-align: center\">query_label</th>\n",
       "        <th style=\"padding-left: 1em; padding-right: 1em; text-align: center\">reference_label</th>\n",
       "        <th style=\"padding-left: 1em; padding-right: 1em; text-align: center\">distance</th>\n",
       "        <th style=\"padding-left: 1em; padding-right: 1em; text-align: center\">rank</th>\n",
       "    </tr>\n",
       "    <tr>\n",
       "        <td style=\"padding-left: 1em; padding-right: 1em; text-align: center; vertical-align: top\">Paul Krugman</td>\n",
       "        <td style=\"padding-left: 1em; padding-right: 1em; text-align: center; vertical-align: top\">Paul Krugman</td>\n",
       "        <td style=\"padding-left: 1em; padding-right: 1em; text-align: center; vertical-align: top\">0.0</td>\n",
       "        <td style=\"padding-left: 1em; padding-right: 1em; text-align: center; vertical-align: top\">1</td>\n",
       "    </tr>\n",
       "    <tr>\n",
       "        <td style=\"padding-left: 1em; padding-right: 1em; text-align: center; vertical-align: top\">Paul Krugman</td>\n",
       "        <td style=\"padding-left: 1em; padding-right: 1em; text-align: center; vertical-align: top\">Elise Brezis</td>\n",
       "        <td style=\"padding-left: 1em; padding-right: 1em; text-align: center; vertical-align: top\">0.744498017262</td>\n",
       "        <td style=\"padding-left: 1em; padding-right: 1em; text-align: center; vertical-align: top\">2</td>\n",
       "    </tr>\n",
       "    <tr>\n",
       "        <td style=\"padding-left: 1em; padding-right: 1em; text-align: center; vertical-align: top\">Paul Krugman</td>\n",
       "        <td style=\"padding-left: 1em; padding-right: 1em; text-align: center; vertical-align: top\">Maitreesh Ghatak</td>\n",
       "        <td style=\"padding-left: 1em; padding-right: 1em; text-align: center; vertical-align: top\">0.81564984831</td>\n",
       "        <td style=\"padding-left: 1em; padding-right: 1em; text-align: center; vertical-align: top\">3</td>\n",
       "    </tr>\n",
       "    <tr>\n",
       "        <td style=\"padding-left: 1em; padding-right: 1em; text-align: center; vertical-align: top\">Paul Krugman</td>\n",
       "        <td style=\"padding-left: 1em; padding-right: 1em; text-align: center; vertical-align: top\">Kai A. Konrad</td>\n",
       "        <td style=\"padding-left: 1em; padding-right: 1em; text-align: center; vertical-align: top\">0.823700564406</td>\n",
       "        <td style=\"padding-left: 1em; padding-right: 1em; text-align: center; vertical-align: top\">4</td>\n",
       "    </tr>\n",
       "    <tr>\n",
       "        <td style=\"padding-left: 1em; padding-right: 1em; text-align: center; vertical-align: top\">Paul Krugman</td>\n",
       "        <td style=\"padding-left: 1em; padding-right: 1em; text-align: center; vertical-align: top\">David Colander</td>\n",
       "        <td style=\"padding-left: 1em; padding-right: 1em; text-align: center; vertical-align: top\">0.834625927759</td>\n",
       "        <td style=\"padding-left: 1em; padding-right: 1em; text-align: center; vertical-align: top\">5</td>\n",
       "    </tr>\n",
       "    <tr>\n",
       "        <td style=\"padding-left: 1em; padding-right: 1em; text-align: center; vertical-align: top\">Paul Krugman</td>\n",
       "        <td style=\"padding-left: 1em; padding-right: 1em; text-align: center; vertical-align: top\">Richard Blundell</td>\n",
       "        <td style=\"padding-left: 1em; padding-right: 1em; text-align: center; vertical-align: top\">0.837934267874</td>\n",
       "        <td style=\"padding-left: 1em; padding-right: 1em; text-align: center; vertical-align: top\">6</td>\n",
       "    </tr>\n",
       "    <tr>\n",
       "        <td style=\"padding-left: 1em; padding-right: 1em; text-align: center; vertical-align: top\">Paul Krugman</td>\n",
       "        <td style=\"padding-left: 1em; padding-right: 1em; text-align: center; vertical-align: top\">Gordon Rausser</td>\n",
       "        <td style=\"padding-left: 1em; padding-right: 1em; text-align: center; vertical-align: top\">0.83941534706</td>\n",
       "        <td style=\"padding-left: 1em; padding-right: 1em; text-align: center; vertical-align: top\">7</td>\n",
       "    </tr>\n",
       "    <tr>\n",
       "        <td style=\"padding-left: 1em; padding-right: 1em; text-align: center; vertical-align: top\">Paul Krugman</td>\n",
       "        <td style=\"padding-left: 1em; padding-right: 1em; text-align: center; vertical-align: top\">Edward J. Nell</td>\n",
       "        <td style=\"padding-left: 1em; padding-right: 1em; text-align: center; vertical-align: top\">0.842178500015</td>\n",
       "        <td style=\"padding-left: 1em; padding-right: 1em; text-align: center; vertical-align: top\">8</td>\n",
       "    </tr>\n",
       "    <tr>\n",
       "        <td style=\"padding-left: 1em; padding-right: 1em; text-align: center; vertical-align: top\">Paul Krugman</td>\n",
       "        <td style=\"padding-left: 1em; padding-right: 1em; text-align: center; vertical-align: top\">Robin Boadway</td>\n",
       "        <td style=\"padding-left: 1em; padding-right: 1em; text-align: center; vertical-align: top\">0.842374260596</td>\n",
       "        <td style=\"padding-left: 1em; padding-right: 1em; text-align: center; vertical-align: top\">9</td>\n",
       "    </tr>\n",
       "    <tr>\n",
       "        <td style=\"padding-left: 1em; padding-right: 1em; text-align: center; vertical-align: top\">Paul Krugman</td>\n",
       "        <td style=\"padding-left: 1em; padding-right: 1em; text-align: center; vertical-align: top\">Tim Besley</td>\n",
       "        <td style=\"padding-left: 1em; padding-right: 1em; text-align: center; vertical-align: top\">0.843088109253</td>\n",
       "        <td style=\"padding-left: 1em; padding-right: 1em; text-align: center; vertical-align: top\">10</td>\n",
       "    </tr>\n",
       "</table>\n",
       "[10 rows x 4 columns]<br/>\n",
       "</div>"
      ],
      "text/plain": [
       "Columns:\n",
       "\tquery_label\tstr\n",
       "\treference_label\tstr\n",
       "\tdistance\tfloat\n",
       "\trank\tint\n",
       "\n",
       "Rows: 10\n",
       "\n",
       "Data:\n",
       "+--------------+------------------+----------------+------+\n",
       "| query_label  | reference_label  |    distance    | rank |\n",
       "+--------------+------------------+----------------+------+\n",
       "| Paul Krugman |   Paul Krugman   |      0.0       |  1   |\n",
       "| Paul Krugman |   Elise Brezis   | 0.744498017262 |  2   |\n",
       "| Paul Krugman | Maitreesh Ghatak | 0.81564984831  |  3   |\n",
       "| Paul Krugman |  Kai A. Konrad   | 0.823700564406 |  4   |\n",
       "| Paul Krugman |  David Colander  | 0.834625927759 |  5   |\n",
       "| Paul Krugman | Richard Blundell | 0.837934267874 |  6   |\n",
       "| Paul Krugman |  Gordon Rausser  | 0.83941534706  |  7   |\n",
       "| Paul Krugman |  Edward J. Nell  | 0.842178500015 |  8   |\n",
       "| Paul Krugman |  Robin Boadway   | 0.842374260596 |  9   |\n",
       "| Paul Krugman |    Tim Besley    | 0.843088109253 |  10  |\n",
       "+--------------+------------------+----------------+------+\n",
       "[10 rows x 4 columns]"
      ]
     },
     "execution_count": 29,
     "metadata": {},
     "output_type": "execute_result"
    }
   ],
   "source": [
    "model_tf_idf.query(wiki[wiki['name'] == 'Paul Krugman'], label='name', k=10)"
   ]
  },
  {
   "cell_type": "code",
   "execution_count": 30,
   "metadata": {},
   "outputs": [
    {
     "data": {
      "text/html": [
       "<pre>Starting pairwise querying.</pre>"
      ],
      "text/plain": [
       "Starting pairwise querying."
      ]
     },
     "metadata": {},
     "output_type": "display_data"
    },
    {
     "data": {
      "text/html": [
       "<pre>+--------------+---------+-------------+--------------+</pre>"
      ],
      "text/plain": [
       "+--------------+---------+-------------+--------------+"
      ]
     },
     "metadata": {},
     "output_type": "display_data"
    },
    {
     "data": {
      "text/html": [
       "<pre>| Query points | # Pairs | % Complete. | Elapsed Time |</pre>"
      ],
      "text/plain": [
       "| Query points | # Pairs | % Complete. | Elapsed Time |"
      ]
     },
     "metadata": {},
     "output_type": "display_data"
    },
    {
     "data": {
      "text/html": [
       "<pre>+--------------+---------+-------------+--------------+</pre>"
      ],
      "text/plain": [
       "+--------------+---------+-------------+--------------+"
      ]
     },
     "metadata": {},
     "output_type": "display_data"
    },
    {
     "data": {
      "text/html": [
       "<pre>| 0            | 1       | 0.00169288  | 4.331ms      |</pre>"
      ],
      "text/plain": [
       "| 0            | 1       | 0.00169288  | 4.331ms      |"
      ]
     },
     "metadata": {},
     "output_type": "display_data"
    },
    {
     "data": {
      "text/html": [
       "<pre>| Done         |         | 100         | 33.867ms     |</pre>"
      ],
      "text/plain": [
       "| Done         |         | 100         | 33.867ms     |"
      ]
     },
     "metadata": {},
     "output_type": "display_data"
    },
    {
     "data": {
      "text/html": [
       "<pre>+--------------+---------+-------------+--------------+</pre>"
      ],
      "text/plain": [
       "+--------------+---------+-------------+--------------+"
      ]
     },
     "metadata": {},
     "output_type": "display_data"
    },
    {
     "data": {
      "text/html": [
       "<div style=\"max-height:1000px;max-width:1500px;overflow:auto;\"><table frame=\"box\" rules=\"cols\">\n",
       "    <tr>\n",
       "        <th style=\"padding-left: 1em; padding-right: 1em; text-align: center\">query_label</th>\n",
       "        <th style=\"padding-left: 1em; padding-right: 1em; text-align: center\">reference_label</th>\n",
       "        <th style=\"padding-left: 1em; padding-right: 1em; text-align: center\">distance</th>\n",
       "        <th style=\"padding-left: 1em; padding-right: 1em; text-align: center\">rank</th>\n",
       "    </tr>\n",
       "    <tr>\n",
       "        <td style=\"padding-left: 1em; padding-right: 1em; text-align: center; vertical-align: top\">Paul Krugman</td>\n",
       "        <td style=\"padding-left: 1em; padding-right: 1em; text-align: center; vertical-align: top\">Paul Krugman</td>\n",
       "        <td style=\"padding-left: 1em; padding-right: 1em; text-align: center; vertical-align: top\">-2.22044604925e-16</td>\n",
       "        <td style=\"padding-left: 1em; padding-right: 1em; text-align: center; vertical-align: top\">1</td>\n",
       "    </tr>\n",
       "    <tr>\n",
       "        <td style=\"padding-left: 1em; padding-right: 1em; text-align: center; vertical-align: top\">Paul Krugman</td>\n",
       "        <td style=\"padding-left: 1em; padding-right: 1em; text-align: center; vertical-align: top\">Ronald Deibert</td>\n",
       "        <td style=\"padding-left: 1em; padding-right: 1em; text-align: center; vertical-align: top\">0.00226883885188</td>\n",
       "        <td style=\"padding-left: 1em; padding-right: 1em; text-align: center; vertical-align: top\">2</td>\n",
       "    </tr>\n",
       "    <tr>\n",
       "        <td style=\"padding-left: 1em; padding-right: 1em; text-align: center; vertical-align: top\">Paul Krugman</td>\n",
       "        <td style=\"padding-left: 1em; padding-right: 1em; text-align: center; vertical-align: top\">Stephen Raudenbush</td>\n",
       "        <td style=\"padding-left: 1em; padding-right: 1em; text-align: center; vertical-align: top\">0.0026981009859</td>\n",
       "        <td style=\"padding-left: 1em; padding-right: 1em; text-align: center; vertical-align: top\">3</td>\n",
       "    </tr>\n",
       "    <tr>\n",
       "        <td style=\"padding-left: 1em; padding-right: 1em; text-align: center; vertical-align: top\">Paul Krugman</td>\n",
       "        <td style=\"padding-left: 1em; padding-right: 1em; text-align: center; vertical-align: top\">Kathy Hirsh-Pasek</td>\n",
       "        <td style=\"padding-left: 1em; padding-right: 1em; text-align: center; vertical-align: top\">0.00366282873977</td>\n",
       "        <td style=\"padding-left: 1em; padding-right: 1em; text-align: center; vertical-align: top\">4</td>\n",
       "    </tr>\n",
       "    <tr>\n",
       "        <td style=\"padding-left: 1em; padding-right: 1em; text-align: center; vertical-align: top\">Paul Krugman</td>\n",
       "        <td style=\"padding-left: 1em; padding-right: 1em; text-align: center; vertical-align: top\">Stephen Cole<br>(sociologist) ...</td>\n",
       "        <td style=\"padding-left: 1em; padding-right: 1em; text-align: center; vertical-align: top\">0.00374343324253</td>\n",
       "        <td style=\"padding-left: 1em; padding-right: 1em; text-align: center; vertical-align: top\">5</td>\n",
       "    </tr>\n",
       "    <tr>\n",
       "        <td style=\"padding-left: 1em; padding-right: 1em; text-align: center; vertical-align: top\">Paul Krugman</td>\n",
       "        <td style=\"padding-left: 1em; padding-right: 1em; text-align: center; vertical-align: top\">Jennifer Freyd</td>\n",
       "        <td style=\"padding-left: 1em; padding-right: 1em; text-align: center; vertical-align: top\">0.00439554561769</td>\n",
       "        <td style=\"padding-left: 1em; padding-right: 1em; text-align: center; vertical-align: top\">6</td>\n",
       "    </tr>\n",
       "    <tr>\n",
       "        <td style=\"padding-left: 1em; padding-right: 1em; text-align: center; vertical-align: top\">Paul Krugman</td>\n",
       "        <td style=\"padding-left: 1em; padding-right: 1em; text-align: center; vertical-align: top\">Morton Kaplan</td>\n",
       "        <td style=\"padding-left: 1em; padding-right: 1em; text-align: center; vertical-align: top\">0.00449320533656</td>\n",
       "        <td style=\"padding-left: 1em; padding-right: 1em; text-align: center; vertical-align: top\">7</td>\n",
       "    </tr>\n",
       "    <tr>\n",
       "        <td style=\"padding-left: 1em; padding-right: 1em; text-align: center; vertical-align: top\">Paul Krugman</td>\n",
       "        <td style=\"padding-left: 1em; padding-right: 1em; text-align: center; vertical-align: top\">Leana Wen</td>\n",
       "        <td style=\"padding-left: 1em; padding-right: 1em; text-align: center; vertical-align: top\">0.00465384733401</td>\n",
       "        <td style=\"padding-left: 1em; padding-right: 1em; text-align: center; vertical-align: top\">8</td>\n",
       "    </tr>\n",
       "    <tr>\n",
       "        <td style=\"padding-left: 1em; padding-right: 1em; text-align: center; vertical-align: top\">Paul Krugman</td>\n",
       "        <td style=\"padding-left: 1em; padding-right: 1em; text-align: center; vertical-align: top\">Catherine Hakim</td>\n",
       "        <td style=\"padding-left: 1em; padding-right: 1em; text-align: center; vertical-align: top\">0.00483116613376</td>\n",
       "        <td style=\"padding-left: 1em; padding-right: 1em; text-align: center; vertical-align: top\">9</td>\n",
       "    </tr>\n",
       "    <tr>\n",
       "        <td style=\"padding-left: 1em; padding-right: 1em; text-align: center; vertical-align: top\">Paul Krugman</td>\n",
       "        <td style=\"padding-left: 1em; padding-right: 1em; text-align: center; vertical-align: top\">Gerald Graff</td>\n",
       "        <td style=\"padding-left: 1em; padding-right: 1em; text-align: center; vertical-align: top\">0.00492893626975</td>\n",
       "        <td style=\"padding-left: 1em; padding-right: 1em; text-align: center; vertical-align: top\">10</td>\n",
       "    </tr>\n",
       "</table>\n",
       "[10 rows x 4 columns]<br/>\n",
       "</div>"
      ],
      "text/plain": [
       "Columns:\n",
       "\tquery_label\tstr\n",
       "\treference_label\tstr\n",
       "\tdistance\tfloat\n",
       "\trank\tint\n",
       "\n",
       "Rows: 10\n",
       "\n",
       "Data:\n",
       "+--------------+----------------------------+--------------------+------+\n",
       "| query_label  |      reference_label       |      distance      | rank |\n",
       "+--------------+----------------------------+--------------------+------+\n",
       "| Paul Krugman |        Paul Krugman        | -2.22044604925e-16 |  1   |\n",
       "| Paul Krugman |       Ronald Deibert       |  0.00226883885188  |  2   |\n",
       "| Paul Krugman |     Stephen Raudenbush     |  0.0026981009859   |  3   |\n",
       "| Paul Krugman |     Kathy Hirsh-Pasek      |  0.00366282873977  |  4   |\n",
       "| Paul Krugman | Stephen Cole (sociologist) |  0.00374343324253  |  5   |\n",
       "| Paul Krugman |       Jennifer Freyd       |  0.00439554561769  |  6   |\n",
       "| Paul Krugman |       Morton Kaplan        |  0.00449320533656  |  7   |\n",
       "| Paul Krugman |         Leana Wen          |  0.00465384733401  |  8   |\n",
       "| Paul Krugman |      Catherine Hakim       |  0.00483116613376  |  9   |\n",
       "| Paul Krugman |        Gerald Graff        |  0.00492893626975  |  10  |\n",
       "+--------------+----------------------------+--------------------+------+\n",
       "[10 rows x 4 columns]"
      ]
     },
     "execution_count": 30,
     "metadata": {},
     "output_type": "execute_result"
    }
   ],
   "source": [
    "model_lda_rep.query(wiki[wiki['name'] == 'Paul Krugman'], label='name', k=10)"
   ]
  },
  {
   "cell_type": "markdown",
   "metadata": {},
   "source": [
    "Notice that that there is no overlap between the two sets of top 10 nearest neighbors. This doesn't necessarily mean that one representation is better or worse than the other, but rather that they are picking out different features of the documents. \n",
    "\n",
    "With TF-IDF, documents are distinguished by the frequency of uncommon words. Since similarity is defined based on the specific words used in the document, documents that are \"close\" under TF-IDF tend to be similar in terms of specific details. This is what we see in the example: the top 10 nearest neighbors are all economists from the US, UK, or Canada. \n",
    "\n",
    "Our LDA representation, on the other hand, defines similarity between documents in terms of their topic distributions. This means that documents can be \"close\" if they share similar themes, even though they may not share many of the same keywords. For the article on Paul Krugman, we expect the most important topics to be 'American college and politics' and 'science and research'. As a result, we see that the top 10 nearest neighbors are academics from a wide variety of fields, including literature, anthropology, and religious studies.\n",
    "\n",
    "\n",
    "__Quiz Question:__ Using the TF-IDF representation, compute the 5000 nearest neighbors for American baseball player Alex Rodriguez. For what value of k is Mariano Rivera the k-th nearest neighbor to Alex Rodriguez? (Hint: Once you have a list of the nearest neighbors, you can use `mylist.index(value)` to find the index of the first instance of `value` in `mylist`.)\n",
    "\n",
    "__Quiz Question:__ Using the LDA representation, compute the 5000 nearest neighbors for American baseball player Alex Rodriguez. For what value of k is Mariano Rivera the k-th nearest neighbor to Alex Rodriguez? (Hint: Once you have a list of the nearest neighbors, you can use `mylist.index(value)` to find the index of the first instance of `value` in `mylist`.)"
   ]
  },
  {
   "cell_type": "code",
   "execution_count": 32,
   "metadata": {},
   "outputs": [
    {
     "data": {
      "text/html": [
       "<pre>Starting pairwise querying.</pre>"
      ],
      "text/plain": [
       "Starting pairwise querying."
      ]
     },
     "metadata": {},
     "output_type": "display_data"
    },
    {
     "data": {
      "text/html": [
       "<pre>+--------------+---------+-------------+--------------+</pre>"
      ],
      "text/plain": [
       "+--------------+---------+-------------+--------------+"
      ]
     },
     "metadata": {},
     "output_type": "display_data"
    },
    {
     "data": {
      "text/html": [
       "<pre>| Query points | # Pairs | % Complete. | Elapsed Time |</pre>"
      ],
      "text/plain": [
       "| Query points | # Pairs | % Complete. | Elapsed Time |"
      ]
     },
     "metadata": {},
     "output_type": "display_data"
    },
    {
     "data": {
      "text/html": [
       "<pre>+--------------+---------+-------------+--------------+</pre>"
      ],
      "text/plain": [
       "+--------------+---------+-------------+--------------+"
      ]
     },
     "metadata": {},
     "output_type": "display_data"
    },
    {
     "data": {
      "text/html": [
       "<pre>| 0            | 1       | 0.00169288  | 10.946ms     |</pre>"
      ],
      "text/plain": [
       "| 0            | 1       | 0.00169288  | 10.946ms     |"
      ]
     },
     "metadata": {},
     "output_type": "display_data"
    },
    {
     "data": {
      "text/html": [
       "<pre>| Done         |         | 100         | 241.872ms    |</pre>"
      ],
      "text/plain": [
       "| Done         |         | 100         | 241.872ms    |"
      ]
     },
     "metadata": {},
     "output_type": "display_data"
    },
    {
     "data": {
      "text/html": [
       "<pre>+--------------+---------+-------------+--------------+</pre>"
      ],
      "text/plain": [
       "+--------------+---------+-------------+--------------+"
      ]
     },
     "metadata": {},
     "output_type": "display_data"
    }
   ],
   "source": [
    "nn_alex = model_tf_idf.query(wiki[wiki['name'] == 'Alex Rodriguez'], label='name', k=5000)"
   ]
  },
  {
   "cell_type": "code",
   "execution_count": 35,
   "metadata": {},
   "outputs": [
    {
     "data": {
      "text/html": [
       "<div style=\"max-height:1000px;max-width:1500px;overflow:auto;\"><table frame=\"box\" rules=\"cols\">\n",
       "    <tr>\n",
       "        <th style=\"padding-left: 1em; padding-right: 1em; text-align: center\">query_label</th>\n",
       "        <th style=\"padding-left: 1em; padding-right: 1em; text-align: center\">reference_label</th>\n",
       "        <th style=\"padding-left: 1em; padding-right: 1em; text-align: center\">distance</th>\n",
       "        <th style=\"padding-left: 1em; padding-right: 1em; text-align: center\">rank</th>\n",
       "    </tr>\n",
       "    <tr>\n",
       "        <td style=\"padding-left: 1em; padding-right: 1em; text-align: center; vertical-align: top\">Alex Rodriguez</td>\n",
       "        <td style=\"padding-left: 1em; padding-right: 1em; text-align: center; vertical-align: top\">Alex Rodriguez</td>\n",
       "        <td style=\"padding-left: 1em; padding-right: 1em; text-align: center; vertical-align: top\">0.0</td>\n",
       "        <td style=\"padding-left: 1em; padding-right: 1em; text-align: center; vertical-align: top\">1</td>\n",
       "    </tr>\n",
       "    <tr>\n",
       "        <td style=\"padding-left: 1em; padding-right: 1em; text-align: center; vertical-align: top\">Alex Rodriguez</td>\n",
       "        <td style=\"padding-left: 1em; padding-right: 1em; text-align: center; vertical-align: top\">John Rodriguez (baseball)</td>\n",
       "        <td style=\"padding-left: 1em; padding-right: 1em; text-align: center; vertical-align: top\">0.643662221072</td>\n",
       "        <td style=\"padding-left: 1em; padding-right: 1em; text-align: center; vertical-align: top\">2</td>\n",
       "    </tr>\n",
       "    <tr>\n",
       "        <td style=\"padding-left: 1em; padding-right: 1em; text-align: center; vertical-align: top\">Alex Rodriguez</td>\n",
       "        <td style=\"padding-left: 1em; padding-right: 1em; text-align: center; vertical-align: top\">Alfonso Soriano</td>\n",
       "        <td style=\"padding-left: 1em; padding-right: 1em; text-align: center; vertical-align: top\">0.716766505271</td>\n",
       "        <td style=\"padding-left: 1em; padding-right: 1em; text-align: center; vertical-align: top\">3</td>\n",
       "    </tr>\n",
       "    <tr>\n",
       "        <td style=\"padding-left: 1em; padding-right: 1em; text-align: center; vertical-align: top\">Alex Rodriguez</td>\n",
       "        <td style=\"padding-left: 1em; padding-right: 1em; text-align: center; vertical-align: top\">Eladio Rodriguez</td>\n",
       "        <td style=\"padding-left: 1em; padding-right: 1em; text-align: center; vertical-align: top\">0.727952380269</td>\n",
       "        <td style=\"padding-left: 1em; padding-right: 1em; text-align: center; vertical-align: top\">4</td>\n",
       "    </tr>\n",
       "    <tr>\n",
       "        <td style=\"padding-left: 1em; padding-right: 1em; text-align: center; vertical-align: top\">Alex Rodriguez</td>\n",
       "        <td style=\"padding-left: 1em; padding-right: 1em; text-align: center; vertical-align: top\">Maggie Rodriguez</td>\n",
       "        <td style=\"padding-left: 1em; padding-right: 1em; text-align: center; vertical-align: top\">0.730077138491</td>\n",
       "        <td style=\"padding-left: 1em; padding-right: 1em; text-align: center; vertical-align: top\">5</td>\n",
       "    </tr>\n",
       "    <tr>\n",
       "        <td style=\"padding-left: 1em; padding-right: 1em; text-align: center; vertical-align: top\">Alex Rodriguez</td>\n",
       "        <td style=\"padding-left: 1em; padding-right: 1em; text-align: center; vertical-align: top\">Derek Jeter</td>\n",
       "        <td style=\"padding-left: 1em; padding-right: 1em; text-align: center; vertical-align: top\">0.744062022625</td>\n",
       "        <td style=\"padding-left: 1em; padding-right: 1em; text-align: center; vertical-align: top\">6</td>\n",
       "    </tr>\n",
       "    <tr>\n",
       "        <td style=\"padding-left: 1em; padding-right: 1em; text-align: center; vertical-align: top\">Alex Rodriguez</td>\n",
       "        <td style=\"padding-left: 1em; padding-right: 1em; text-align: center; vertical-align: top\">Felipe Rodriguez (soccer)</td>\n",
       "        <td style=\"padding-left: 1em; padding-right: 1em; text-align: center; vertical-align: top\">0.750710450705</td>\n",
       "        <td style=\"padding-left: 1em; padding-right: 1em; text-align: center; vertical-align: top\">7</td>\n",
       "    </tr>\n",
       "    <tr>\n",
       "        <td style=\"padding-left: 1em; padding-right: 1em; text-align: center; vertical-align: top\">Alex Rodriguez</td>\n",
       "        <td style=\"padding-left: 1em; padding-right: 1em; text-align: center; vertical-align: top\">Rich Rodriguez (baseball)</td>\n",
       "        <td style=\"padding-left: 1em; padding-right: 1em; text-align: center; vertical-align: top\">0.755699161545</td>\n",
       "        <td style=\"padding-left: 1em; padding-right: 1em; text-align: center; vertical-align: top\">8</td>\n",
       "    </tr>\n",
       "    <tr>\n",
       "        <td style=\"padding-left: 1em; padding-right: 1em; text-align: center; vertical-align: top\">Alex Rodriguez</td>\n",
       "        <td style=\"padding-left: 1em; padding-right: 1em; text-align: center; vertical-align: top\">Josh Hamilton</td>\n",
       "        <td style=\"padding-left: 1em; padding-right: 1em; text-align: center; vertical-align: top\">0.758732675823</td>\n",
       "        <td style=\"padding-left: 1em; padding-right: 1em; text-align: center; vertical-align: top\">9</td>\n",
       "    </tr>\n",
       "    <tr>\n",
       "        <td style=\"padding-left: 1em; padding-right: 1em; text-align: center; vertical-align: top\">Alex Rodriguez</td>\n",
       "        <td style=\"padding-left: 1em; padding-right: 1em; text-align: center; vertical-align: top\">Chris Davis (baseball)</td>\n",
       "        <td style=\"padding-left: 1em; padding-right: 1em; text-align: center; vertical-align: top\">0.765630370531</td>\n",
       "        <td style=\"padding-left: 1em; padding-right: 1em; text-align: center; vertical-align: top\">10</td>\n",
       "    </tr>\n",
       "</table>\n",
       "[5000 rows x 4 columns]<br/>Note: Only the head of the SFrame is printed.<br/>You can use print_rows(num_rows=m, num_columns=n) to print more rows and columns.\n",
       "</div>"
      ],
      "text/plain": [
       "Columns:\n",
       "\tquery_label\tstr\n",
       "\treference_label\tstr\n",
       "\tdistance\tfloat\n",
       "\trank\tint\n",
       "\n",
       "Rows: 5000\n",
       "\n",
       "Data:\n",
       "+----------------+---------------------------+----------------+------+\n",
       "|  query_label   |      reference_label      |    distance    | rank |\n",
       "+----------------+---------------------------+----------------+------+\n",
       "| Alex Rodriguez |       Alex Rodriguez      |      0.0       |  1   |\n",
       "| Alex Rodriguez | John Rodriguez (baseball) | 0.643662221072 |  2   |\n",
       "| Alex Rodriguez |      Alfonso Soriano      | 0.716766505271 |  3   |\n",
       "| Alex Rodriguez |      Eladio Rodriguez     | 0.727952380269 |  4   |\n",
       "| Alex Rodriguez |      Maggie Rodriguez     | 0.730077138491 |  5   |\n",
       "| Alex Rodriguez |        Derek Jeter        | 0.744062022625 |  6   |\n",
       "| Alex Rodriguez | Felipe Rodriguez (soccer) | 0.750710450705 |  7   |\n",
       "| Alex Rodriguez | Rich Rodriguez (baseball) | 0.755699161545 |  8   |\n",
       "| Alex Rodriguez |       Josh Hamilton       | 0.758732675823 |  9   |\n",
       "| Alex Rodriguez |   Chris Davis (baseball)  | 0.765630370531 |  10  |\n",
       "+----------------+---------------------------+----------------+------+\n",
       "[5000 rows x 4 columns]\n",
       "Note: Only the head of the SFrame is printed.\n",
       "You can use print_rows(num_rows=m, num_columns=n) to print more rows and columns."
      ]
     },
     "execution_count": 35,
     "metadata": {},
     "output_type": "execute_result"
    }
   ],
   "source": [
    "nn_alex"
   ]
  },
  {
   "cell_type": "code",
   "execution_count": 38,
   "metadata": {},
   "outputs": [
    {
     "data": {
      "text/plain": [
       "['Alex Rodriguez',\n",
       " 'John Rodriguez (baseball)',\n",
       " 'Alfonso Soriano',\n",
       " 'Eladio Rodriguez',\n",
       " 'Maggie Rodriguez',\n",
       " 'Derek Jeter',\n",
       " 'Felipe Rodriguez (soccer)',\n",
       " 'Rich Rodriguez (baseball)',\n",
       " 'Josh Hamilton',\n",
       " 'Chris Davis (baseball)',\n",
       " 'Andruw Jones',\n",
       " 'Gary Gray (baseball)',\n",
       " 'Ryan Braun',\n",
       " 'Jairo Avalos Rodriguez',\n",
       " 'Joe Torre',\n",
       " 'Matt Lawton',\n",
       " 'Jorge Posada',\n",
       " 'Hank Aaron',\n",
       " 'Cal Ripken, Jr.',\n",
       " 'Shawn Green',\n",
       " 'Justin Leone',\n",
       " 'Pat Kelly (infielder)',\n",
       " 'Manny Ramirez',\n",
       " 'Chipper Jones',\n",
       " 'Chris Young (pitcher)',\n",
       " 'David Freese',\n",
       " 'Don Mattingly',\n",
       " 'Matt Holliday',\n",
       " 'Gary Ward (outfielder)',\n",
       " 'Aubrey Huff',\n",
       " 'Pat Burrell',\n",
       " 'Ike Davis',\n",
       " 'Olga Rodriguez',\n",
       " 'Kevin Nicholson (baseball)',\n",
       " 'Floyd Robinson',\n",
       " 'Rey S%C3%A1nchez',\n",
       " 'Phil Hughes',\n",
       " 'Robert P%C3%A9rez (baseball)',\n",
       " 'Todd Williams',\n",
       " 'Prince Fielder',\n",
       " 'Wes Bankston',\n",
       " 'Tino Rodr%C3%ADguez',\n",
       " 'Mauricio Rodriguez Anza',\n",
       " 'Andre Dawson',\n",
       " 'Michelle Rodriguez',\n",
       " 'Dan Rohrmeier',\n",
       " 'Reggie Jackson',\n",
       " 'Milton Bradley (baseball)',\n",
       " 'Jim Anderson (baseball)',\n",
       " 'Chris Arnold (baseball)',\n",
       " 'Alex George (baseball)',\n",
       " 'Barry Larkin',\n",
       " 'Mariano Rivera',\n",
       " 'Tom Herr',\n",
       " 'Ram%C3%B3n Nivar',\n",
       " 'Dan Graham (baseball)',\n",
       " 'Nate Freiman',\n",
       " 'Mike Johnson (1990s pitcher)',\n",
       " 'Mark Reynolds (baseball)',\n",
       " 'Ryan Garko',\n",
       " 'Jim Rice',\n",
       " 'Miguel Cabrera',\n",
       " 'Fernando Gonz%C3%A1lez (baseball)',\n",
       " 'Chris Ba%C5%9Fak',\n",
       " 'Andy Pettitte',\n",
       " 'Jim Thome',\n",
       " 'Ron Hansen (baseball)',\n",
       " 'Chan Perry',\n",
       " 'Gary Jones (pitcher)',\n",
       " 'Ken Griffey, Jr.',\n",
       " 'Horace Clarke',\n",
       " 'Gary Holle',\n",
       " 'Chad Allen (baseball)',\n",
       " 'Juan Uribe',\n",
       " 'Barry Bonds',\n",
       " 'Jason Heyward',\n",
       " 'Chris Cates',\n",
       " 'Morgan Burkhart',\n",
       " 'Terry Bell',\n",
       " 'John Mayberry, Jr.',\n",
       " 'Mark McLemore',\n",
       " 'Randy Williams (baseball)',\n",
       " 'Dan Peltier',\n",
       " 'Dave Pagan',\n",
       " 'F%C3%A9lix Torres',\n",
       " 'Ji-man Choi',\n",
       " 'Mark Newman (baseball)',\n",
       " 'Dave Oliver',\n",
       " 'Joey Meyer (baseball)',\n",
       " 'Eddie Zosky',\n",
       " 'Jos%C3%A9 Hern%C3%A1ndez (baseball)',\n",
       " 'Jeff Frye',\n",
       " 'Evan Longoria',\n",
       " 'Ozzie Smith',\n",
       " 'Earl Agnoly',\n",
       " 'Pablo Sandoval',\n",
       " 'Mike Richardt',\n",
       " 'Jamie Moyer',\n",
       " 'Lin Yi-chuan',\n",
       " 'Vladimir Guerrero',\n",
       " 'Mike Busch (baseball)',\n",
       " 'Philip Humber',\n",
       " 'Jerry Keller (baseball)',\n",
       " 'H%C3%A9ctor L%C3%B3pez',\n",
       " 'Rich Becker',\n",
       " 'Matt Stairs',\n",
       " 'Steve Springer',\n",
       " 'Wade Taylor',\n",
       " 'Rich Puig',\n",
       " 'Frank Malzone',\n",
       " 'Dave Myers (baseball)',\n",
       " 'Chris Roberts (baseball)',\n",
       " 'Luis Antonio Jim%C3%A9nez (baseball)',\n",
       " 'Ryan Christenson',\n",
       " 'Al Holland',\n",
       " 'John Bowker (baseball)',\n",
       " 'Cliff Brumbaugh',\n",
       " 'Greg Vaughn',\n",
       " 'Ellie Rodr%C3%ADguez',\n",
       " 'Ichiro Suzuki',\n",
       " 'Frank Johnson (baseball)',\n",
       " 'Jake Wood (baseball)',\n",
       " 'Phil Lombardi',\n",
       " 'Frank Thomas (designated hitter)',\n",
       " 'Jos%C3%A9 Bautista',\n",
       " 'Brett Harper',\n",
       " 'Brad Gulden',\n",
       " 'John Ellis (baseball)',\n",
       " 'Jason Grabowski',\n",
       " 'Billy Bates (baseball)',\n",
       " 'Dave Nilsson',\n",
       " 'Carlos Zambrano',\n",
       " 'Calvin Magee',\n",
       " 'Jack Heidemann',\n",
       " 'Rickey Henderson',\n",
       " 'Buster Posey',\n",
       " 'Lalo Rodr%C3%ADguez',\n",
       " 'Omar Vizquel',\n",
       " 'Hosken Powell',\n",
       " 'David Clyde',\n",
       " 'Earl Averill, Jr.',\n",
       " 'Glenn Wilson (baseball)',\n",
       " 'Mike Wood (baseball)',\n",
       " 'Bill Davis (baseball)',\n",
       " 'Blake Dean (baseball)',\n",
       " 'Nick Noonan',\n",
       " 'Tom Wilson (2000s catcher)',\n",
       " 'Bobby Higginson',\n",
       " 'Jordan Brown (baseball)',\n",
       " 'Adam Wainwright',\n",
       " \"Syd O'Brien\",\n",
       " 'Phil Clark (outfielder)',\n",
       " 'Danny Richar',\n",
       " 'Jeoff Long',\n",
       " 'Joc Pederson',\n",
       " 'James Beresford (baseball)',\n",
       " 'Danny Valencia',\n",
       " 'David Cone',\n",
       " 'Jeff Banister',\n",
       " 'Kevin Maas',\n",
       " 'Matt Kata',\n",
       " 'Luis G%C3%B3mez (baseball)',\n",
       " 'Jeff Abbott (baseball)',\n",
       " 'Jeff Jones (outfielder)',\n",
       " 'Scott Seabol',\n",
       " 'Carlos Ruiz (baseball)',\n",
       " 'Buddy Pritchard',\n",
       " 'Gabe Kapler',\n",
       " 'William Rodriguez',\n",
       " 'Bob Cerv',\n",
       " 'Carl Yastrzemski',\n",
       " 'Ian Kinsler',\n",
       " 'Keith Smith (outfielder)',\n",
       " 'Junior Rodriguez',\n",
       " 'Ted Ford',\n",
       " 'Madison Bumgarner',\n",
       " 'Gast%C3%B3n Rodr%C3%ADguez',\n",
       " 'Frank Bolling',\n",
       " 'David Rodriguez (boxer)',\n",
       " 'Bill Almon',\n",
       " 'Art Mazmanian',\n",
       " 'Gene Alley',\n",
       " 'Jerry Turner (baseball)',\n",
       " 'Mike Stanley',\n",
       " 'Andy Dillard',\n",
       " 'Ger%C3%B3nimo Berroa',\n",
       " 'Sonia Rodriguez',\n",
       " \"Paul O'Neill (baseball)\",\n",
       " 'Lila Morillo',\n",
       " 'Jason Anderson (baseball)',\n",
       " 'Eric Fox',\n",
       " 'Don Taussig',\n",
       " 'Willie Mays',\n",
       " 'Ted Silva',\n",
       " 'Edgar Renter%C3%ADa',\n",
       " 'John Rabb',\n",
       " 'Cody Ross',\n",
       " 'Orel Hershiser',\n",
       " 'Ross Jones',\n",
       " 'Fred Jackson (American football coach)',\n",
       " 'Tom Wright (baseball)',\n",
       " 'Shirley Miranda-Rodriguez',\n",
       " 'Mel Held',\n",
       " 'Rusty McNealy',\n",
       " 'James Baldwin (baseball)',\n",
       " 'Darrin Fletcher',\n",
       " 'Nolan Ryan',\n",
       " 'Danny Cater',\n",
       " 'V%C3%ADctor D%C3%ADaz',\n",
       " 'Johnny Werhas',\n",
       " 'Mike Heath',\n",
       " 'Bucky Jacobsen',\n",
       " 'Gladys Davis (baseball)',\n",
       " 'Alfonso Pulido',\n",
       " 'John Montague (baseball)',\n",
       " 'Ted Schreiber',\n",
       " 'Larry Brown (infielder)',\n",
       " 'Rick Lancellotti',\n",
       " 'George Hinshaw',\n",
       " 'Brooks Kieschnick',\n",
       " 'Gary Sheffield',\n",
       " 'Jeff Kunkel',\n",
       " 'Scott Baker (right-handed pitcher)',\n",
       " 'Bill Haywood (baseball)',\n",
       " 'Gordon Lund',\n",
       " 'Mark Whiten',\n",
       " 'Justin Knoedler',\n",
       " 'Harold Baines',\n",
       " 'Kevin Bell (baseball)',\n",
       " 'Joe Strong',\n",
       " 'Dave Elder (baseball)',\n",
       " 'Billy Hunter (baseball)',\n",
       " 'Jackie Brandt',\n",
       " 'Mark Johnson (catcher)',\n",
       " 'Blair Barbier',\n",
       " 'Ted Cox (baseball)',\n",
       " 'Bill Selby',\n",
       " 'Mel Stocker',\n",
       " 'Robert Person',\n",
       " 'Todd Hollandsworth',\n",
       " 'Todd Burns',\n",
       " 'Clyde Mashore',\n",
       " 'Rick Reichardt',\n",
       " 'Ed Yarnall',\n",
       " 'Lee Smith (baseball)',\n",
       " 'John Massarelli',\n",
       " 'Luis Ugueto',\n",
       " 'Terry Blocker',\n",
       " 'Matt Nokes',\n",
       " 'Justin Morneau',\n",
       " 'Jim Gentile',\n",
       " 'Travis Shaw',\n",
       " 'Luis Raven',\n",
       " 'Rob Belloir',\n",
       " 'Albert Hall (baseball)',\n",
       " 'Eddie Bressoud',\n",
       " 'Danny Bautista',\n",
       " 'Ryan Lavarnway',\n",
       " 'Michael Duursma',\n",
       " 'Ernie Young',\n",
       " 'Bobby Darwin',\n",
       " 'Bob Taylor (baseball)',\n",
       " 'Johnny James',\n",
       " 'Jim Marshall (baseball)',\n",
       " 'Tim Harkness',\n",
       " 'Chuck Schilling',\n",
       " 'Todd Claus',\n",
       " 'Nate Colbert',\n",
       " 'Minnie Mi%C3%B1oso',\n",
       " 'Jason Stokes',\n",
       " 'Mark Wasinger',\n",
       " 'Rafael Medina (baseball)',\n",
       " 'Kevin Kobel',\n",
       " 'Julio B%C3%A9cquer',\n",
       " 'Albert Pujols',\n",
       " 'Mario Guerrero',\n",
       " 'Doug Waechter',\n",
       " 'Mike Walker (pitcher, born 1965)',\n",
       " 'Bruce Christensen',\n",
       " 'Jermaine Allensworth',\n",
       " 'Wes Littleton',\n",
       " 'Dave Schuler',\n",
       " 'Bobby Prescott',\n",
       " 'Marty Bystrom',\n",
       " 'Brock Pemberton (baseball)',\n",
       " 'Dwayne Hosey',\n",
       " 'Don Lock',\n",
       " 'Tim Ireland',\n",
       " 'Tony Mounce',\n",
       " 'Carlos Beltr%C3%A1n',\n",
       " 'Clay Parker',\n",
       " 'Robbie Widlansky',\n",
       " 'Tom Wilhelmsen',\n",
       " 'Larry Hardy (baseball)',\n",
       " 'Javier L%C3%B3pez (baseball)',\n",
       " 'Joe Durham',\n",
       " 'Dave Staton',\n",
       " 'Tanyon Sturtze',\n",
       " 'Q. V. Lowe',\n",
       " 'Travis Ishikawa',\n",
       " 'Kris Wilson (baseball)',\n",
       " 'Chico Fern%C3%A1ndez (baseball, born 1939)',\n",
       " 'Darrel Chaney',\n",
       " 'Bruce Robinson (baseball)',\n",
       " 'Merv Rettenmund',\n",
       " 'Pete Stanicek',\n",
       " 'Dick Groat',\n",
       " 'Frank Fern%C3%A1ndez (baseball)',\n",
       " 'John Fishel',\n",
       " 'Masahiro Kawai',\n",
       " 'Alexei Rodriguez',\n",
       " 'Ron Hunt',\n",
       " 'Rub%C3%A9n Mateo',\n",
       " 'Carlos L%C3%B3pez (baseball)',\n",
       " 'Betty Francis',\n",
       " 'Billy Pierce',\n",
       " 'Bill Plummer',\n",
       " 'Mickey Bowers',\n",
       " 'Dan Dobbek',\n",
       " 'Rufus Rodriguez',\n",
       " 'Jerry Snyder',\n",
       " 'Jim Mahoney',\n",
       " 'Andy Etchebarren',\n",
       " 'Andrew Graham (baseball)',\n",
       " 'Tyler Graham',\n",
       " 'Zack Greinke',\n",
       " \"D'Angelo Jim%C3%A9nez\",\n",
       " 'Yordany Ram%C3%ADrez',\n",
       " 'Jason Varitek',\n",
       " 'Steve Green (baseball)',\n",
       " 'Jimmy Williams (coach)',\n",
       " 'Shawn Barton',\n",
       " 'Eliott Rodriguez',\n",
       " 'Jason Thompson (first baseman, born 1971)',\n",
       " 'Sixto Lezcano',\n",
       " 'Peng Cheng-min',\n",
       " 'Dave Robinson (baseball)',\n",
       " 'Jim Palmer',\n",
       " 'Enrique Wilson',\n",
       " 'Emile Francis',\n",
       " 'Ron Shepherd',\n",
       " 'H%C3%A9ctor Cruz (baseball)',\n",
       " 'David Maroul',\n",
       " 'Choo Freeman',\n",
       " 'Jimmy Rollins',\n",
       " 'Luis Medina (baseball)',\n",
       " 'Billy Smith (second baseman)',\n",
       " 'Kevin Collins (baseball)',\n",
       " 'Trevor Hoffman',\n",
       " 'Rudy Pemberton',\n",
       " 'Dan Evans (baseball)',\n",
       " 'Ron Jackson',\n",
       " 'Michael Ryan (baseball)',\n",
       " 'Rich Amaral',\n",
       " 'Gary Kolb',\n",
       " 'Chuck Cottier',\n",
       " 'James Garcia',\n",
       " 'Greg Erardi',\n",
       " 'Billy Ott',\n",
       " 'Tommy Murphy (baseball)',\n",
       " 'Rick James (baseball)',\n",
       " 'Alvis Woods',\n",
       " 'Steve Kline (right-handed pitcher)',\n",
       " 'Johnny Hubbard',\n",
       " 'Joe West (umpire)',\n",
       " 'Jim Todd (baseball)',\n",
       " 'Jon Lieber',\n",
       " 'Josh Hall (baseball)',\n",
       " 'Scarborough Green',\n",
       " 'Terrmel Sledge',\n",
       " 'Jeff DaVanon',\n",
       " 'Jim Hickman (1960s outfielder)',\n",
       " 'Dooley Womack',\n",
       " 'Gustavo Molina',\n",
       " 'Allan Dykstra',\n",
       " 'Bob Gibson',\n",
       " 'Dwayne Murphy',\n",
       " 'Chang Chien-ming',\n",
       " 'Jack Bloomfield (baseball)',\n",
       " 'Wayne Franklin',\n",
       " 'Austin Adams (baseball)',\n",
       " 'Glenn Williams',\n",
       " 'Bruce Ellingsen',\n",
       " 'Darren Bragg',\n",
       " 'Gerald Young (baseball)',\n",
       " 'Mike Norris (baseball)',\n",
       " 'Glenn Murray (baseball)',\n",
       " 'Don Dillard',\n",
       " 'Rugger Ardizoia',\n",
       " 'Luis Ortiz (baseball)',\n",
       " 'Mike Moore (baseball)',\n",
       " 'Tug Hulett',\n",
       " 'Steve Wilson (baseball)',\n",
       " 'Mason Tobin',\n",
       " 'Gary Gillette',\n",
       " 'Jose Rodriguez (activist)',\n",
       " 'Bobby Hill (baseball)',\n",
       " 'Larry Miggins',\n",
       " 'Leo Sutherland',\n",
       " 'Larry Elliot',\n",
       " 'Tom Harmon (baseball)',\n",
       " 'Bob Sprout',\n",
       " 'Jerry Moses',\n",
       " 'Pete Varney',\n",
       " 'Ted Kazanski',\n",
       " 'Darren Fenster',\n",
       " 'Kenny Lofton',\n",
       " 'Dan Petry',\n",
       " 'Hank Allen',\n",
       " 'Pete Rose',\n",
       " 'Don Leppert (second baseman)',\n",
       " 'Bruce Bochte',\n",
       " 'Neil Berry (baseball)',\n",
       " 'Dick Gernert',\n",
       " 'Juan Eichelberger',\n",
       " 'Ron Polk',\n",
       " 'Mark Malaska',\n",
       " 'Rick Short',\n",
       " 'Matt Whiteside',\n",
       " 'Rick Bauer',\n",
       " 'Lance Johnson',\n",
       " 'Gary LaRocque',\n",
       " 'Bill Moran (pitcher)',\n",
       " 'Ken Reitz',\n",
       " 'Darrin Chapin',\n",
       " 'Chuck Baker',\n",
       " 'Richard Hidalgo',\n",
       " 'Ken Hottman',\n",
       " 'Keith Mitchell (baseball)',\n",
       " 'Jeff Harris (baseball)',\n",
       " 'Bob Sadowski (third baseman)',\n",
       " 'Phil Nevin',\n",
       " 'Bob Schroder',\n",
       " 'Nick Schumacher',\n",
       " 'Bud Anderson (baseball)',\n",
       " 'Sammy Cox',\n",
       " 'Andy Tracy',\n",
       " 'Duane Wilson',\n",
       " 'Mike Rouse',\n",
       " 'Derrick May (baseball)',\n",
       " 'Terry Hughes (baseball)',\n",
       " 'Yadier Molina',\n",
       " 'Kash Beauchamp',\n",
       " 'Gary Bedingfield',\n",
       " 'Wes Chamberlain',\n",
       " 'Jeff Conine',\n",
       " 'Hiromichi Ishige',\n",
       " 'Chris Sampson',\n",
       " 'Kim Allen',\n",
       " 'Kevin Baez',\n",
       " 'Gary Blaylock',\n",
       " 'Chuck Harrison (baseball)',\n",
       " 'Doris Cook',\n",
       " 'Eh%C3%ADr%C3%A9 Adr%C3%ADanza',\n",
       " 'Jake Woods',\n",
       " 'Mike Pagliarulo',\n",
       " 'Wayne Garrett',\n",
       " 'Joe Nathan',\n",
       " 'Stephen Randolph',\n",
       " 'F%C3%A9lix Mantilla (baseball)',\n",
       " 'Jeff Nelson (baseball)',\n",
       " 'Fritzie Connally',\n",
       " 'T. J. Bohn',\n",
       " 'Jason Hirsh',\n",
       " 'Lou Camilli',\n",
       " 'Ken Poulsen',\n",
       " 'Bill Mills (baseball)',\n",
       " 'Matt Smith (baseball)',\n",
       " 'Carl Scheib',\n",
       " 'Mike White (baseball)',\n",
       " 'Elba Rosa Rodr%C3%ADguez-Fuentes',\n",
       " 'Hiroki Kokubo',\n",
       " 'Kevin Pasley',\n",
       " 'Bobby Ayala',\n",
       " 'Tommy Thompson (baseball, born 1947)',\n",
       " 'Gary Bennett (baseball)',\n",
       " 'Don Secrist',\n",
       " 'Jayhawk Owens',\n",
       " 'Dean Taylor (baseball)',\n",
       " 'R. J. Harrison (baseball)',\n",
       " 'Jerry Terrell',\n",
       " 'Billy Connors',\n",
       " 'Andy Dominique',\n",
       " 'Roger Clemens',\n",
       " 'Santiago Guzm%C3%A1n (baseball)',\n",
       " 'Bob Stinson (baseball)',\n",
       " 'Mike Stenhouse',\n",
       " 'Mike Matheny',\n",
       " 'Steve Hargan',\n",
       " 'Bob Bauer (baseball)',\n",
       " 'Ryan Klesko',\n",
       " 'Bob Spicer',\n",
       " 'Duke Simpson',\n",
       " 'Arleene Johnson',\n",
       " 'Goose Gossage',\n",
       " 'Kal Daniels',\n",
       " 'Scott McClain',\n",
       " 'John Baumgartner',\n",
       " 'Jerry Schoonmaker',\n",
       " 'Sandy Koufax',\n",
       " 'Steve Jeltz',\n",
       " 'Mike Sowell',\n",
       " 'Carlos Rodr%C3%ADguez (tennis coach)',\n",
       " 'Mike Port',\n",
       " 'John Sanders (baseball)',\n",
       " 'Joe Camacho (baseball)',\n",
       " 'Chico Fern%C3%A1ndez',\n",
       " 'Ernie Fazio',\n",
       " 'Adam Bright',\n",
       " 'Rusty Kuntz',\n",
       " 'Ryan Strieby',\n",
       " 'Mike Tonis',\n",
       " 'Tommy Giordano',\n",
       " 'Butch Henry',\n",
       " 'Marlan Coughtry',\n",
       " 'Salom%C3%B3n Manr%C3%ADquez',\n",
       " 'Armando R%C3%ADos',\n",
       " 'Ray Peters',\n",
       " 'Joe Christopher',\n",
       " 'Sam Fuld',\n",
       " 'Rich Dauer',\n",
       " 'Cliff Lee',\n",
       " 'Drew Meyer',\n",
       " 'Rich Monteleone',\n",
       " 'Billy North',\n",
       " 'Jack Fisher',\n",
       " 'Ram%C3%B3n Ram%C3%ADrez (Dominican pitcher)',\n",
       " 'Stephen Strasburg',\n",
       " 'Mike Chris',\n",
       " 'Matthew Kent',\n",
       " 'Tom Flanigan (baseball)',\n",
       " 'Marjorie Peters',\n",
       " 'Larry Barnes',\n",
       " 'Sean Coyle (baseball)',\n",
       " 'Joselo D%C3%ADaz',\n",
       " 'Jimmie Schaffer',\n",
       " 'Jimmy Millar',\n",
       " 'C%C3%A9sar Crespo',\n",
       " 'Eli Whiteside',\n",
       " 'Jerome Walton',\n",
       " 'Bob Farley',\n",
       " 'Cole Figueroa',\n",
       " 'Andy Cannizaro',\n",
       " 'Costa Christo Kapothanasis',\n",
       " 'Kevin Witt',\n",
       " 'Marilyn Jenkins',\n",
       " 'Tim Cullen',\n",
       " 'Greg McMichael',\n",
       " 'Tom Brady',\n",
       " 'John Patterson (infielder)',\n",
       " 'Jim Davenport',\n",
       " 'Mel Behney',\n",
       " 'Johnnie LeMaster',\n",
       " 'Mike de la Hoz',\n",
       " 'Donnie Sadler',\n",
       " 'Bump Wills',\n",
       " 'Erasmo Ramirez (left-handed pitcher)',\n",
       " 'Dave Beard',\n",
       " 'Arturo J. Marcano Guevara',\n",
       " 'Cleveland Gary',\n",
       " 'Terry Kennedy',\n",
       " 'Bob Mariano',\n",
       " 'Donnie Elliott',\n",
       " 'Amalio Carre%C3%B1o',\n",
       " 'Aroldis Chapman',\n",
       " 'Chuck Cary',\n",
       " 'Roy Majtyka',\n",
       " 'Nino Escalera',\n",
       " 'Don Bosch',\n",
       " 'Bill Virdon',\n",
       " 'Denny Bautista',\n",
       " 'Mary Weddle',\n",
       " 'Gordon Massa',\n",
       " 'Duke Sims',\n",
       " 'Art Mahaffey',\n",
       " 'Keith Lampard',\n",
       " 'Ryan Shealy',\n",
       " 'Lee Surkowski',\n",
       " 'Ed Crosby',\n",
       " 'Han Lin',\n",
       " 'Steve Dunn (1990s first baseman)',\n",
       " 'Bill Greason',\n",
       " 'Mike Potter (baseball)',\n",
       " 'Mike Sember',\n",
       " 'Juan D%C3%ADaz (first baseman)',\n",
       " 'Vern Fuller',\n",
       " 'Alejandro Freire',\n",
       " 'Pat Bourque',\n",
       " 'Ron Henry (baseball)',\n",
       " 'Andrew Brown (pitcher)',\n",
       " 'Bobby Klaus',\n",
       " 'Craig Stansberry',\n",
       " 'Andr%C3%A9s Torres',\n",
       " 'Frank Saucier',\n",
       " 'Mike Adamson',\n",
       " 'Steve Dillon (baseball)',\n",
       " 'John Orsino',\n",
       " 'Xavier Hernandez (baseball)',\n",
       " 'Enrique Romo',\n",
       " 'Charlie Reliford',\n",
       " 'F%C3%A9lix Heredia',\n",
       " 'Tavo %C3%81lvarez',\n",
       " 'Santiago P%C3%A9rez (baseball)',\n",
       " 'Vicente Palacios',\n",
       " 'Yasuhiko Yabuta',\n",
       " 'Tony Fossas',\n",
       " 'Dick Barone',\n",
       " 'Jack Kubiszyn',\n",
       " 'Ron Hodges',\n",
       " 'Roy Barrera, Jr.',\n",
       " 'Junior Moore',\n",
       " 'Dave Stevens (athlete)',\n",
       " 'Gene Leek',\n",
       " 'Michael Barrett (baseball)',\n",
       " 'Danny Coombs',\n",
       " 'Kerry Wood',\n",
       " 'Sonny Jackson',\n",
       " 'Ken Hamlin (baseball)',\n",
       " 'Damian Costantino',\n",
       " 'Christine Jewett',\n",
       " 'Rob Bell (baseball)',\n",
       " 'Eduardo Arredondo',\n",
       " 'Jim Holt (baseball)',\n",
       " 'Wayne Causey',\n",
       " 'Jean Buckley',\n",
       " 'Ralph Botting',\n",
       " 'Sandy Johnson (baseball)',\n",
       " 'Jack McMahan',\n",
       " 'Charlie Manning',\n",
       " 'Al Naples',\n",
       " 'Scott Perlman',\n",
       " 'Damian Rolls',\n",
       " 'Stephen Schilling',\n",
       " 'Kathryn Vonderau',\n",
       " 'Felipe Crespo',\n",
       " 'Buddy Harris',\n",
       " 'Len Boehmer',\n",
       " 'Ryan Jorgensen',\n",
       " 'Julio Cruz (baseball)',\n",
       " 'Phil Plantier',\n",
       " 'Fred Cambria',\n",
       " 'Rico Petrocelli',\n",
       " 'Larry Lintz',\n",
       " 'Jos%C3%A9 Castro (baseball)',\n",
       " 'Bob Harrison (baseball)',\n",
       " 'Mike Martin (baseball coach)',\n",
       " 'Craig Colbert',\n",
       " 'Judd Lynn',\n",
       " 'Craig Anderson (right-handed pitcher)',\n",
       " 'Ozzie Virgil, Sr.',\n",
       " 'Mickey Brantley',\n",
       " 'Bronswell Patrick',\n",
       " 'Leon McFadden',\n",
       " 'Ben Johnson (outfielder)',\n",
       " 'Bob Heise',\n",
       " 'Dave Ford',\n",
       " 'Julie Croteau',\n",
       " 'Billy Conigliaro',\n",
       " 'Jerry Hinsley',\n",
       " 'Dan Merklinger',\n",
       " 'Dion James',\n",
       " 'Pedro Mart%C3%ADnez',\n",
       " 'Nate Schierholtz',\n",
       " 'Claude Raymond (baseball)',\n",
       " 'Lois Barker',\n",
       " 'Mike Rose (baseball)',\n",
       " 'Paul Gibson (baseball)',\n",
       " 'Thad Bosley',\n",
       " 'Gerald Perry',\n",
       " 'Dick Colpaert',\n",
       " 'Jim Pankovits',\n",
       " 'Bob Johnson (infielder)',\n",
       " 'Mike Rojas',\n",
       " 'Gary Dotter',\n",
       " 'Joe Gaines',\n",
       " 'Sam Travis',\n",
       " 'Mike Brown (pitcher)',\n",
       " 'Terry Rupp',\n",
       " 'Rusty Tillman (baseball)',\n",
       " 'Jeff Hamilton (baseball)',\n",
       " 'Doug Camilli',\n",
       " 'Lee Thomas (baseball)',\n",
       " 'Joshua Roberts',\n",
       " 'Andy Beene',\n",
       " 'Jonathan Pettibone',\n",
       " 'Gail Hopkins',\n",
       " 'Jim Shellenback',\n",
       " 'Bobby Sprowl',\n",
       " 'Lance Nichols',\n",
       " 'Brad Ausmus',\n",
       " 'Gaylord Perry',\n",
       " 'Ron Samford',\n",
       " 'Kevin Reese',\n",
       " 'Merrill Kelly',\n",
       " 'Lou Marone',\n",
       " 'Kyle Kendrick',\n",
       " 'Wes Whisler',\n",
       " 'Dave Pavlas',\n",
       " 'Jim Campbell (catcher)',\n",
       " 'Larry Landreth',\n",
       " 'Ted Savage',\n",
       " 'Keith Lockhart (baseball)',\n",
       " 'Tommy Hutton',\n",
       " 'Clint Sammons',\n",
       " 'Jim Manning (pitcher)',\n",
       " 'Marge Villa',\n",
       " 'Barry Zito',\n",
       " 'Ulf Nilsson (ice hockey)',\n",
       " 'Barry Bonnell',\n",
       " 'Ram%C3%B3n de los Santos',\n",
       " 'Rod Tafoya',\n",
       " 'Juan Salas',\n",
       " 'Tracy Martin',\n",
       " 'Dave Joppie',\n",
       " 'Bud Selig',\n",
       " 'Luis Matos',\n",
       " 'Jimmy Freeman',\n",
       " 'Tim Hummel',\n",
       " 'Yosvani Peraza',\n",
       " 'Alex Escobar',\n",
       " 'Kim Batiste',\n",
       " 'Dave Rohde',\n",
       " 'Russ Snyder',\n",
       " 'John Pacella',\n",
       " 'Runelvys Hern%C3%A1ndez',\n",
       " 'Dai-Kang Yang',\n",
       " 'Chris Ballingall',\n",
       " 'Luis L%C3%B3pez (infielder)',\n",
       " 'Branch Barrett Rickey',\n",
       " 'Chris S%C3%A1enz',\n",
       " 'Rick Austin (baseball)',\n",
       " 'Bob Henley',\n",
       " 'Mike Squires',\n",
       " 'Bob Ross (baseball)',\n",
       " 'John Jaha',\n",
       " 'Tom Emanski',\n",
       " 'Mike Neill',\n",
       " 'Ernestine Petras',\n",
       " 'Bobby Pfeil',\n",
       " 'Jayson More',\n",
       " 'Spencer Ross',\n",
       " 'Barbara Hoffman',\n",
       " 'Gale Wade',\n",
       " 'Ron Shandler',\n",
       " 'Izzy Molina',\n",
       " 'Willis Ot%C3%A1%C3%B1ez',\n",
       " 'Kevin Stocker',\n",
       " 'Harry Howell (ice hockey)',\n",
       " 'Sean DePaula',\n",
       " 'Mois%C3%A9s Alou',\n",
       " 'Bobby Etheridge (baseball)',\n",
       " 'Andrew Zimbalist',\n",
       " 'Clint Conatser',\n",
       " 'Chad Kreuter',\n",
       " 'Johnny Rutherford (baseball)',\n",
       " 'Bob Kipper',\n",
       " 'Rico Washington',\n",
       " 'Tim Foli',\n",
       " 'Dick Starr',\n",
       " 'Kevin Youkilis',\n",
       " 'Robbie Moore',\n",
       " 'Javier Castillo',\n",
       " 'Adam Pettyjohn',\n",
       " 'Mike Capel',\n",
       " 'Pete Palmer',\n",
       " 'Matt Franco',\n",
       " 'Bryan Clark (baseball)',\n",
       " 'Josh Satin',\n",
       " 'Rick Down',\n",
       " 'Graham Fyfe (footballer, born 1951)',\n",
       " 'Mario Lisson',\n",
       " 'Rick Grapenthin',\n",
       " 'Brendan Wise',\n",
       " 'Alex Cosmidis',\n",
       " 'Al Weis',\n",
       " \"John O'Donoghue (1960s pitcher)\",\n",
       " 'Doc Edwards',\n",
       " 'Steve Stroughter',\n",
       " 'Jorge Cortez',\n",
       " 'Woody Smith',\n",
       " 'Bobby Bonner',\n",
       " 'Jason Dickson',\n",
       " 'Mike Macha',\n",
       " 'Corky Withrow',\n",
       " 'Morris Nettles',\n",
       " 'Craig Skok',\n",
       " 'Deven Marrero',\n",
       " 'Brian Falkenborg',\n",
       " 'William Arce',\n",
       " 'Mark Merila',\n",
       " 'Bob Reece',\n",
       " 'Chris Jones (1990s outfielder)',\n",
       " 'Neifi P%C3%A9rez',\n",
       " 'Chip Glass',\n",
       " 'Antonio Osuna',\n",
       " 'Yusei Kikuchi',\n",
       " 'Mitch Maier',\n",
       " 'Earl Snyder',\n",
       " 'Jim Walton (baseball)',\n",
       " 'Jerry Walker',\n",
       " 'Johnny Groth',\n",
       " 'Matt Macri',\n",
       " 'Phil Niekro',\n",
       " 'Joe Keough',\n",
       " 'Isora del Castillo',\n",
       " 'Mitch Lively',\n",
       " 'Lin Chung-chiu',\n",
       " 'Brent Butler',\n",
       " 'Gary Hymel',\n",
       " 'Mike Boulanger',\n",
       " 'Danny Murphy (pitcher)',\n",
       " 'Phil Bainbridge',\n",
       " 'Matt Morris (baseball)',\n",
       " 'Freddie Bynum',\n",
       " 'Luis Mart%C3%ADnez (pitcher)',\n",
       " 'Matt Cain',\n",
       " 'Alex Rae (footballer, born 1969)',\n",
       " 'Bill Gogolewski',\n",
       " 'Randy Smith (baseball)',\n",
       " 'Russ Heman',\n",
       " 'Jos%C3%A9 Morales (designated hitter)',\n",
       " 'Tom Martin (baseball)',\n",
       " 'Ken McBride',\n",
       " 'Barbara Payne',\n",
       " 'David Howard (baseball)',\n",
       " 'Mark Messier',\n",
       " 'Tony Taylor (baseball)',\n",
       " 'Danny Garcia (outfielder)',\n",
       " 'Jerry Dybzinski',\n",
       " 'Travis Dawkins',\n",
       " 'John Sullivan (1960s catcher)',\n",
       " 'Rob Ducey',\n",
       " 'Tommie Sisk',\n",
       " 'Frank Funk (baseball)',\n",
       " 'Tommie Reynolds',\n",
       " 'Nook Logan',\n",
       " 'George Genovese',\n",
       " 'Clayton Kershaw',\n",
       " 'Rob Andrews (baseball)',\n",
       " 'Jesper Fast',\n",
       " 'Chad Green',\n",
       " 'Carl Sadler',\n",
       " 'Jason Stanford',\n",
       " 'Daryl Robertson',\n",
       " 'Murray Chass',\n",
       " 'Jim Presley',\n",
       " 'Bob Stoddard',\n",
       " '%C3%81ngel Salazar (baseball)',\n",
       " 'Danny Young (baseball)',\n",
       " 'Tony La Russa',\n",
       " 'Carlos Hern%C3%A1ndez (catcher)',\n",
       " 'David Kandilas',\n",
       " 'Mauricio Robles',\n",
       " 'Orlando Merced',\n",
       " 'Steve Jones (baseball)',\n",
       " 'Brian Reith',\n",
       " 'Denny Doyle',\n",
       " 'Rick Reed (umpire)',\n",
       " '%C3%89ric Gagn%C3%A9',\n",
       " 'Buddy Gilbert',\n",
       " 'Al Moran',\n",
       " 'Ben Oglivie',\n",
       " 'Jos%C3%A9 Mac%C3%ADas',\n",
       " 'Carmen Cali',\n",
       " 'Dave Liddell',\n",
       " 'Roy Halladay',\n",
       " 'Dwight Siebler',\n",
       " 'Todd Greene',\n",
       " 'J. C. Sulbaran',\n",
       " 'Eric Soderholm',\n",
       " 'David Branch',\n",
       " 'Mike Armstrong (baseball)',\n",
       " 'Paul Foytack',\n",
       " 'Mickey Callaway',\n",
       " 'Mike Smithson (baseball)',\n",
       " 'Manny Jim%C3%A9nez',\n",
       " 'Pete Walker',\n",
       " 'Ruth Born',\n",
       " 'Eddie Bane',\n",
       " 'Ron Warner (baseball)',\n",
       " 'Jim Otten',\n",
       " 'Dave Wehrmeister',\n",
       " 'Jacke Davis',\n",
       " 'Reggie Baldwin',\n",
       " 'Larry Stahl',\n",
       " 'Matt Bischoff',\n",
       " 'Shawn Gilbert',\n",
       " 'Kay Heim',\n",
       " 'Doug Howard',\n",
       " 'DeMarlo Hale',\n",
       " 'Gil Coan',\n",
       " 'Dean Chance',\n",
       " 'Vern Geishert',\n",
       " 'Alejandro Machado',\n",
       " 'Steve Wilstein',\n",
       " 'Danny Morris',\n",
       " 'Harry Warner (baseball)',\n",
       " 'Ken Frailing',\n",
       " 'Charlie Hudson',\n",
       " 'Wally Whitehurst',\n",
       " 'Rob Butler',\n",
       " 'Darren Clarke (baseball)',\n",
       " 'Jerry Fosnow',\n",
       " 'John Patterson (pitcher)',\n",
       " 'Marty Keough',\n",
       " 'Barbara Berger',\n",
       " 'Doug Glanville',\n",
       " 'Bill Swift',\n",
       " 'Pat Underwood',\n",
       " 'Chuck Essegian',\n",
       " 'Delores Brumfield',\n",
       " 'Marge Callaghan',\n",
       " 'Chris Carpenter',\n",
       " 'Isaac Byrd',\n",
       " 'Joe Presko',\n",
       " 'Billy DeMars',\n",
       " 'Todd Ritchie',\n",
       " 'Jeff Doyle (baseball)',\n",
       " 'Mary Lou Graham',\n",
       " 'Dan Cloutier',\n",
       " 'Eric Crozier (baseball)',\n",
       " 'Josh Labandeira',\n",
       " 'Tom Tango',\n",
       " 'Tim Kennelly (baseball)',\n",
       " 'Rico Brogna',\n",
       " 'Dean Stone',\n",
       " 'Chris Fussell',\n",
       " 'Brian Rose (baseball)',\n",
       " 'Dolores Klosowski',\n",
       " 'Mike Warren (baseball)',\n",
       " 'Albie Lopez',\n",
       " 'Steve Ellsworth',\n",
       " 'Yoshinori Tateyama',\n",
       " 'Paul Rutgers',\n",
       " 'Henry Owens (left-handed pitcher)',\n",
       " 'Gary Jones (manager)',\n",
       " 'Colter Bean',\n",
       " 'Frank Linzy',\n",
       " 'Fred McGriff',\n",
       " \"Jeff D'Amico\",\n",
       " 'Clay Timpner',\n",
       " 'Ken Berry (baseball)',\n",
       " 'Pat House',\n",
       " 'Jeroen Sluijter',\n",
       " 'Mike Kilkenny',\n",
       " 'Clemencia Rodriguez',\n",
       " 'Ron Perry (basketball, born 1958)',\n",
       " 'Allan Ramirez',\n",
       " 'Jon Deeble',\n",
       " 'Jason Conti',\n",
       " 'Tim Leiper',\n",
       " 'Eric Junge',\n",
       " 'Glenn Adams',\n",
       " 'Bob Skube',\n",
       " 'Hal Breeden',\n",
       " 'Brady Williams',\n",
       " 'Mike Sandlock',\n",
       " 'Reggie Sanders',\n",
       " 'Justin Prinstein',\n",
       " 'Rudy Schlesinger',\n",
       " 'Charlie Adam',\n",
       " 'Buddy Groom',\n",
       " 'Patricia Scott',\n",
       " 'Rac Slider',\n",
       " 'Kareem Abdul-Jabbar',\n",
       " 'Harvey Branch',\n",
       " 'Billy Ripken',\n",
       " 'Chris Day',\n",
       " 'Mike Aldrete',\n",
       " 'Don Pavletich',\n",
       " 'Mildred Meacham',\n",
       " 'Rick Turner (baseball)',\n",
       " 'Paul Stuffel',\n",
       " 'Tommy Wilson (footballer, born 1961)',\n",
       " 'Marty Castillo',\n",
       " 'Philip Nastu',\n",
       " 'Ronnie McKinnon',\n",
       " 'Brian Rupp',\n",
       " 'Sam Bowen',\n",
       " 'Chris Knapp (baseball)',\n",
       " 'Ray Castoldi',\n",
       " 'Doug Henry (baseball)',\n",
       " 'Hal King',\n",
       " 'Marty Appel',\n",
       " 'Rich Bordi',\n",
       " 'Eric Owens (baseball)',\n",
       " 'Scott Pose',\n",
       " 'Gabe Alvarez',\n",
       " 'Cam Cairncross',\n",
       " 'Glenn Braggs',\n",
       " 'Kane Davis',\n",
       " 'Emiliano Fruto',\n",
       " 'Guillermo Vento',\n",
       " 'Guy Larose',\n",
       " 'Steven Davis',\n",
       " 'Jake McGee',\n",
       " 'Roger Nelson (baseball)',\n",
       " 'Jo Matumoto',\n",
       " 'John Smoltz',\n",
       " 'Dave Frost',\n",
       " ...]"
      ]
     },
     "execution_count": 38,
     "metadata": {},
     "output_type": "execute_result"
    }
   ],
   "source": [
    "list(nn_alex['reference_label'])"
   ]
  },
  {
   "cell_type": "code",
   "execution_count": 40,
   "metadata": {},
   "outputs": [
    {
     "data": {
      "text/plain": [
       "52"
      ]
     },
     "execution_count": 40,
     "metadata": {},
     "output_type": "execute_result"
    }
   ],
   "source": [
    "list(nn_alex['reference_label']).index('Mariano Rivera')"
   ]
  },
  {
   "cell_type": "code",
   "execution_count": 41,
   "metadata": {},
   "outputs": [
    {
     "data": {
      "text/html": [
       "<pre>Starting pairwise querying.</pre>"
      ],
      "text/plain": [
       "Starting pairwise querying."
      ]
     },
     "metadata": {},
     "output_type": "display_data"
    },
    {
     "data": {
      "text/html": [
       "<pre>+--------------+---------+-------------+--------------+</pre>"
      ],
      "text/plain": [
       "+--------------+---------+-------------+--------------+"
      ]
     },
     "metadata": {},
     "output_type": "display_data"
    },
    {
     "data": {
      "text/html": [
       "<pre>| Query points | # Pairs | % Complete. | Elapsed Time |</pre>"
      ],
      "text/plain": [
       "| Query points | # Pairs | % Complete. | Elapsed Time |"
      ]
     },
     "metadata": {},
     "output_type": "display_data"
    },
    {
     "data": {
      "text/html": [
       "<pre>+--------------+---------+-------------+--------------+</pre>"
      ],
      "text/plain": [
       "+--------------+---------+-------------+--------------+"
      ]
     },
     "metadata": {},
     "output_type": "display_data"
    },
    {
     "data": {
      "text/html": [
       "<pre>| 0            | 1       | 0.00169288  | 4.92ms       |</pre>"
      ],
      "text/plain": [
       "| 0            | 1       | 0.00169288  | 4.92ms       |"
      ]
     },
     "metadata": {},
     "output_type": "display_data"
    },
    {
     "data": {
      "text/html": [
       "<pre>| Done         |         | 100         | 35.278ms     |</pre>"
      ],
      "text/plain": [
       "| Done         |         | 100         | 35.278ms     |"
      ]
     },
     "metadata": {},
     "output_type": "display_data"
    },
    {
     "data": {
      "text/html": [
       "<pre>+--------------+---------+-------------+--------------+</pre>"
      ],
      "text/plain": [
       "+--------------+---------+-------------+--------------+"
      ]
     },
     "metadata": {},
     "output_type": "display_data"
    },
    {
     "data": {
      "text/plain": [
       "386"
      ]
     },
     "execution_count": 41,
     "metadata": {},
     "output_type": "execute_result"
    }
   ],
   "source": [
    "nn_alex_lda = model_lda_rep.query(wiki[wiki['name'] == 'Alex Rodriguez'], label='name', k=5000)\n",
    "list(nn_alex_lda['reference_label']).index('Mariano Rivera')"
   ]
  },
  {
   "cell_type": "markdown",
   "metadata": {},
   "source": [
    "# Understanding the role of LDA model hyperparameters\n",
    "\n",
    "Finally, we'll take a look at the effect of the LDA model hyperparameters alpha and gamma on the characteristics of our fitted model. Recall that alpha is a parameter of the prior distribution over topic weights in each document, while gamma is a parameter of the prior distribution over word weights in each topic. \n",
    "\n",
    "In the video lectures, we saw that alpha and gamma can be thought of as smoothing parameters when we compute how much each document \"likes\" a topic (in the case of alpha) or how much each topic \"likes\" a word (in the case of gamma). In both cases, these parameters serve to reduce the differences across topics or words in terms of these calculated preferences; alpha makes the document preferences \"smoother\" over topics, and gamma makes the topic preferences \"smoother\" over words.\n",
    "\n",
    "Our goal in this section will be to understand how changing these parameter values affects the characteristics of the resulting topic model.\n",
    "\n",
    "__Quiz Question:__ What was the value of alpha used to fit our original topic model? "
   ]
  },
  {
   "cell_type": "markdown",
   "metadata": {},
   "source": [
    "__Quiz Question:__ What was the value of gamma used to fit our original topic model? Remember that GraphLab Create uses \"beta\" instead of \"gamma\" to refer to the hyperparameter that influences topic distributions over words."
   ]
  },
  {
   "cell_type": "markdown",
   "metadata": {},
   "source": [
    "We'll start by loading some topic models that have been trained using different settings of alpha and gamma. Specifically, we will start by comparing the following two models to our original topic model:\n",
    " - tpm_low_alpha, a model trained with alpha = 1 and default gamma\n",
    " - tpm_high_alpha, a model trained with alpha = 50 and default gamma"
   ]
  },
  {
   "cell_type": "code",
   "execution_count": 42,
   "metadata": {},
   "outputs": [],
   "source": [
    "tpm_low_alpha = gl.load_model('topic_models/lda_low_alpha')\n",
    "tpm_high_alpha = gl.load_model('topic_models/lda_high_alpha')"
   ]
  },
  {
   "cell_type": "markdown",
   "metadata": {},
   "source": [
    "### Changing the hyperparameter alpha\n",
    "\n",
    "Since alpha is responsible for smoothing document preferences over topics, the impact of changing its value should be visible when we plot the distribution of topic weights for the same document under models fit with different alpha values. In the code below, we plot the (sorted) topic weights for the Wikipedia article on Barack Obama under models fit with high, original, and low settings of alpha."
   ]
  },
  {
   "cell_type": "code",
   "execution_count": 43,
   "metadata": {},
   "outputs": [
    {
     "data": {
      "image/png": "[encoded data removed]",
      "text/plain": [
       "<Figure size 432x288 with 1 Axes>"
      ]
     },
     "metadata": {
      "needs_background": "light"
     },
     "output_type": "display_data"
    }
   ],
   "source": [
    "a = np.sort(tpm_low_alpha.predict(obama,output_type='probability')[0])[::-1]\n",
    "b = np.sort(topic_model.predict(obama,output_type='probability')[0])[::-1]\n",
    "c = np.sort(tpm_high_alpha.predict(obama,output_type='probability')[0])[::-1]\n",
    "ind = np.arange(len(a))\n",
    "width = 0.3\n",
    "\n",
    "def param_bar_plot(a,b,c,ind,width,ylim,param,xlab,ylab):\n",
    "    fig = plt.figure()\n",
    "    ax = fig.add_subplot(111)\n",
    "\n",
    "    b1 = ax.bar(ind, a, width, color='lightskyblue')\n",
    "    b2 = ax.bar(ind+width, b, width, color='lightcoral')\n",
    "    b3 = ax.bar(ind+(2*width), c, width, color='gold')\n",
    "\n",
    "    ax.set_xticks(ind+width)\n",
    "    ax.set_xticklabels(range(10))\n",
    "    ax.set_ylabel(ylab)\n",
    "    ax.set_xlabel(xlab)\n",
    "    ax.set_ylim(0,ylim)\n",
    "    ax.legend(handles = [b1,b2,b3],labels=['low '+param,'original model','high '+param])\n",
    "\n",
    "    plt.tight_layout()\n",
    "    \n",
    "param_bar_plot(a,b,c,ind,width,ylim=1.0,param='alpha',\n",
    "               xlab='Topics (sorted by weight of top 100 words)',ylab='Topic Probability for Obama Article')"
   ]
  },
  {
   "cell_type": "markdown",
   "metadata": {},
   "source": [
    "Here we can clearly see the smoothing enforced by the alpha parameter - notice that when alpha is low most of the weight in the topic distribution for this article goes to a single topic, but when alpha is high the weight is much more evenly distributed across the topics.\n",
    "\n",
    "__Quiz Question:__ How many topics are assigned a weight greater than 0.3 or less than 0.05 for the article on Paul Krugman in the **low alpha** model?  Use the average results from 100 topic predictions."
   ]
  },
  {
   "cell_type": "code",
   "execution_count": 53,
   "metadata": {},
   "outputs": [],
   "source": [
    "paul = gl.SArray([wiki_docs[int(np.where(wiki['name']=='Paul Krugman')[0])]])\n",
    "paul_topic_probs = np.sort(tpm_low_alpha.predict(paul,output_type='probability')[0])[::-1]\n",
    "gt = paul_topic_probs > 0.3\n",
    "ls = paul_topic_probs < 0.05"
   ]
  },
  {
   "cell_type": "code",
   "execution_count": 62,
   "metadata": {},
   "outputs": [
    {
     "data": {
      "text/plain": [
       "array([ True, False, False, False, False, False, False, False, False,\n",
       "       False])"
      ]
     },
     "execution_count": 62,
     "metadata": {},
     "output_type": "execute_result"
    }
   ],
   "source": [
    "gt"
   ]
  },
  {
   "cell_type": "code",
   "execution_count": 63,
   "metadata": {},
   "outputs": [
    {
     "data": {
      "text/plain": [
       "array([False, False, False,  True,  True,  True,  True,  True,  True,\n",
       "        True])"
      ]
     },
     "execution_count": 63,
     "metadata": {},
     "output_type": "execute_result"
    }
   ],
   "source": [
    "ls"
   ]
  },
  {
   "cell_type": "markdown",
   "metadata": {},
   "source": [
    "__Quiz Question:__ How many topics are assigned a weight greater than 0.3 or less than 0.05 for the article on Paul Krugman in the **high alpha** model? Use the average results from 100 topic predictions."
   ]
  },
  {
   "cell_type": "code",
   "execution_count": 64,
   "metadata": {},
   "outputs": [],
   "source": [
    "paul = gl.SArray([wiki_docs[int(np.where(wiki['name']=='Paul Krugman')[0])]])\n",
    "paul_topic_probs = np.sort(tpm_high_alpha.predict(paul,output_type='probability')[0])[::-1]\n",
    "gt = paul_topic_probs > 0.3\n",
    "ls = paul_topic_probs < 0.05"
   ]
  },
  {
   "cell_type": "code",
   "execution_count": 66,
   "metadata": {},
   "outputs": [
    {
     "data": {
      "text/plain": [
       "array([ True, False, False, False, False, False, False, False, False,\n",
       "       False])"
      ]
     },
     "execution_count": 66,
     "metadata": {},
     "output_type": "execute_result"
    }
   ],
   "source": [
    "gt"
   ]
  },
  {
   "cell_type": "code",
   "execution_count": 67,
   "metadata": {},
   "outputs": [
    {
     "data": {
      "text/plain": [
       "array([False, False, False, False, False, False, False, False,  True,\n",
       "        True])"
      ]
     },
     "execution_count": 67,
     "metadata": {},
     "output_type": "execute_result"
    }
   ],
   "source": [
    "ls"
   ]
  },
  {
   "cell_type": "markdown",
   "metadata": {},
   "source": [
    "### Changing the hyperparameter gamma\n",
    "\n",
    "Just as we were able to see the effect of alpha by plotting topic weights for a document, we expect to be able to visualize the impact of changing gamma by plotting word weights for each topic. In this case, however, there are far too many words in our vocabulary to do this effectively. Instead, we'll plot the total weight of the top 100 words and bottom 1000 words for each topic. Below, we plot the (sorted) total weights of the top 100 words and bottom 1000 from each topic in the high, original, and low gamma models."
   ]
  },
  {
   "cell_type": "markdown",
   "metadata": {},
   "source": [
    "Now we will consider the following two models:\n",
    " - tpm_low_gamma, a model trained with gamma = 0.02 and default alpha\n",
    " - tpm_high_gamma, a model trained with gamma = 0.5 and default alpha"
   ]
  },
  {
   "cell_type": "code",
   "execution_count": 74,
   "metadata": {},
   "outputs": [],
   "source": [
    "del tpm_low_alpha\n",
    "del tpm_high_alpha"
   ]
  },
  {
   "cell_type": "code",
   "execution_count": 75,
   "metadata": {},
   "outputs": [],
   "source": [
    "tpm_low_gamma = gl.load_model('topic_models/lda_low_gamma')\n",
    "tpm_high_gamma = gl.load_model('topic_models/lda_high_gamma')"
   ]
  },
  {
   "cell_type": "code",
   "execution_count": 76,
   "metadata": {},
   "outputs": [
    {
     "data": {
      "image/png": "[encoded data removed]",
      "text/plain": [
       "<Figure size 432x288 with 1 Axes>"
      ]
     },
     "metadata": {
      "needs_background": "light"
     },
     "output_type": "display_data"
    },
    {
     "data": {
      "image/png": "[encoded data removed]",
      "text/plain": [
       "<Figure size 432x288 with 1 Axes>"
      ]
     },
     "metadata": {
      "needs_background": "light"
     },
     "output_type": "display_data"
    }
   ],
   "source": [
    "a_top = np.sort([sum(tpm_low_gamma.get_topics(topic_ids=[i], num_words=100)['score']) for i in range(10)])[::-1]\n",
    "b_top = np.sort([sum(topic_model.get_topics(topic_ids=[i], num_words=100)['score']) for i in range(10)])[::-1]\n",
    "c_top = np.sort([sum(tpm_high_gamma.get_topics(topic_ids=[i], num_words=100)['score']) for i in range(10)])[::-1]\n",
    "\n",
    "a_bot = np.sort([sum(tpm_low_gamma.get_topics(topic_ids=[i], num_words=547462)[-1000:]['score']) for i in range(10)])[::-1]\n",
    "b_bot = np.sort([sum(topic_model.get_topics(topic_ids=[i], num_words=547462)[-1000:]['score']) for i in range(10)])[::-1]\n",
    "c_bot = np.sort([sum(tpm_high_gamma.get_topics(topic_ids=[i], num_words=547462)[-1000:]['score']) for i in range(10)])[::-1]\n",
    "\n",
    "ind = np.arange(len(a))\n",
    "width = 0.3\n",
    "    \n",
    "param_bar_plot(a_top, b_top, c_top, ind, width, ylim=0.6, param='gamma',\n",
    "               xlab='Topics (sorted by weight of top 100 words)', \n",
    "               ylab='Total Probability of Top 100 Words')\n",
    "\n",
    "param_bar_plot(a_bot, b_bot, c_bot, ind, width, ylim=0.0002, param='gamma',\n",
    "               xlab='Topics (sorted by weight of bottom 1000 words)',\n",
    "               ylab='Total Probability of Bottom 1000 Words')"
   ]
  },
  {
   "cell_type": "markdown",
   "metadata": {
    "collapsed": true
   },
   "source": [
    "From these two plots we can see that the low gamma model results in higher weight placed on the top words and lower weight placed on the bottom words for each topic, while the high gamma model places relatively less weight on the top words and more weight on the bottom words. Thus increasing gamma results in topics that have a smoother distribution of weight across all the words in the vocabulary."
   ]
  },
  {
   "cell_type": "markdown",
   "metadata": {},
   "source": [
    "__Quiz Question:__ For each topic of the **low gamma model**, compute the number of words required to make a list with total probability 0.5. What is the average number of words required across all topics? (HINT: use the get\\_topics() function from GraphLab Create with the cdf\\_cutoff argument)."
   ]
  },
  {
   "cell_type": "code",
   "execution_count": 88,
   "metadata": {},
   "outputs": [
    {
     "data": {
      "text/plain": [
       "252.4"
      ]
     },
     "execution_count": 88,
     "metadata": {},
     "output_type": "execute_result"
    }
   ],
   "source": [
    "num_words_list = []\n",
    "for i in range(10):\n",
    "    num_words_list.append(len(tpm_low_gamma.get_topics(topic_ids=[i], num_words=547462, cdf_cutoff=.5)))\n",
    "sum(num_words_list)/10."
   ]
  },
  {
   "cell_type": "markdown",
   "metadata": {},
   "source": [
    "__Quiz Question:__ For each topic of the **high gamma model**, compute the number of words required to make a list with total probability 0.5. What is the average number of words required across all topics? (HINT: use the get\\_topics() function from GraphLab Create with the cdf\\_cutoff argument)."
   ]
  },
  {
   "cell_type": "code",
   "execution_count": 89,
   "metadata": {},
   "outputs": [
    {
     "data": {
      "text/plain": [
       "576.2"
      ]
     },
     "execution_count": 89,
     "metadata": {},
     "output_type": "execute_result"
    }
   ],
   "source": [
    "num_words_list = []\n",
    "for i in range(10):\n",
    "    num_words_list.append(len(tpm_high_gamma.get_topics(topic_ids=[i], num_words=547462, cdf_cutoff=.5)))\n",
    "sum(num_words_list)/10."
   ]
  },
  {
   "cell_type": "markdown",
   "metadata": {},
   "source": [
    "We have now seen how the hyperparameters alpha and gamma influence the characteristics of our LDA topic model, but we haven't said anything about what settings of alpha or gamma are best. We know that these parameters are responsible for controlling the smoothness of the topic distributions for documents and word distributions for topics, but there's no simple conversion between smoothness of these distributions and quality of the topic model. In reality, there is no universally \"best\" choice for these parameters. Instead, finding a good topic model requires that we be able to both explore the output (as we did by looking at the topics and checking some topic predictions for documents) and understand the impact of hyperparameter settings (as we have in this section)."
   ]
  }
 ],
 "metadata": {
  "kernelspec": {
   "display_name": "Python 2",
   "language": "python",
   "name": "python2"
  },
  "language_info": {
   "codemirror_mode": {
    "name": "ipython",
    "version": 2
   },
   "file_extension": ".py",
   "mimetype": "text/x-python",
   "name": "python",
   "nbconvert_exporter": "python",
   "pygments_lexer": "ipython2",
   "version": "2.7.15"
  }
 },
 "nbformat": 4,
 "nbformat_minor": 1
}
